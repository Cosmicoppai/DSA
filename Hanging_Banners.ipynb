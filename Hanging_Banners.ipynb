{
 "cells": [
  {
   "cell_type": "code",
   "execution_count": 2,
   "metadata": {},
   "outputs": [],
   "source": [
    "a = float('-inf')"
   ]
  },
  {
   "cell_type": "code",
   "execution_count": 5,
   "metadata": {},
   "outputs": [],
   "source": [
    "# Largest Sublist Sum"
   ]
  },
  {
   "cell_type": "code",
   "execution_count": 6,
   "metadata": {},
   "outputs": [],
   "source": [
    "class Solution:\n",
    "    def solve(self, nums):\n",
    "        '''max_so_far = float('-inf')\n",
    "        max_ending_here = 0\n",
    "        max_element = float('-inf')\n",
    "        \n",
    "        for i in range(len(nums)):\n",
    "            max_ending_here = max(max_ending_here + nums[i], 0)\n",
    "            max_so_far = max(max_ending_here, max_so_far)\n",
    "            max_element = max(nums[i], max_element)\n",
    "\n",
    "            if max_so_far == 0:\n",
    "                max_so_far = max_element\n",
    "\n",
    "        return max_so_far'''\n",
    "\n",
    "        running = ans = float('-inf')\n",
    "        for x in nums:\n",
    "            running = max(running + x, x)\n",
    "            ans = max(ans, running)\n",
    "        return ans\n",
    "        "
   ]
  },
  {
   "cell_type": "code",
   "execution_count": 21,
   "metadata": {},
   "outputs": [
    {
     "data": {
      "text/plain": [
       "-1"
      ]
     },
     "execution_count": 21,
     "metadata": {},
     "output_type": "execute_result"
    }
   ],
   "source": [
    "a = [-1, -2, -3, -4, -5]\n",
    "Solution().solve(a)"
   ]
  },
  {
   "cell_type": "code",
   "execution_count": 22,
   "metadata": {},
   "outputs": [],
   "source": [
    "c = a.index(-1)"
   ]
  },
  {
   "cell_type": "code",
   "execution_count": 23,
   "metadata": {},
   "outputs": [
    {
     "name": "stdout",
     "output_type": "stream",
     "text": [
      "0\n"
     ]
    }
   ],
   "source": [
    "print(c)"
   ]
  },
  {
   "cell_type": "code",
   "execution_count": 42,
   "metadata": {},
   "outputs": [],
   "source": [
    "# https://binarysearch.com/problems/Hanging-Banners"
   ]
  },
  {
   "cell_type": "code",
   "execution_count": 46,
   "metadata": {},
   "outputs": [],
   "source": [
    "class Solution:\n",
    "    \n",
    "    def solve(self, intervals):\n",
    "        intervals.sort(key=lambda x:x[1])\n",
    "        ans = 0\n",
    "        overlapped = -inf\n",
    "        \n",
    "        for s, e in intervals:\n",
    "            if overlapped < s:\n",
    "                ans+= 1\n",
    "                overlapped = e\n",
    "                \n",
    "        return ans"
   ]
  },
  {
   "cell_type": "code",
   "execution_count": 44,
   "metadata": {},
   "outputs": [
    {
     "name": "stdout",
     "output_type": "stream",
     "text": [
      "[[10, 0], [3, 3], [1, 4]]\n"
     ]
    }
   ],
   "source": []
  },
  {
   "cell_type": "code",
   "execution_count": null,
   "metadata": {},
   "outputs": [],
   "source": []
  }
 ],
 "metadata": {
  "kernelspec": {
   "display_name": "Python 3",
   "language": "python",
   "name": "python3"
  },
  "language_info": {
   "codemirror_mode": {
    "name": "ipython",
    "version": 3
   },
   "file_extension": ".py",
   "mimetype": "text/x-python",
   "name": "python",
   "nbconvert_exporter": "python",
   "pygments_lexer": "ipython3",
   "version": "3.7.3"
  }
 },
 "nbformat": 4,
 "nbformat_minor": 2
}
