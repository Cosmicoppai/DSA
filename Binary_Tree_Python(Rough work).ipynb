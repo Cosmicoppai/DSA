{
 "cells": [
  {
   "cell_type": "code",
   "execution_count": 2,
   "metadata": {},
   "outputs": [],
   "source": [
    "# Kodomo ga hoshii"
   ]
  },
  {
   "cell_type": "code",
   "execution_count": 3,
   "metadata": {},
   "outputs": [],
   "source": [
    "# The Core information stored by a search Engine is a dictionary, called an inverted index or inverted file "
   ]
  },
  {
   "cell_type": "code",
   "execution_count": 126,
   "metadata": {},
   "outputs": [],
   "source": [
    "class Node:\n",
    "    def __init__(self, key=None):\n",
    "        self.left = None\n",
    "        self.right = None\n",
    "        self.data = key\n",
    "        \n",
    "class Tree:\n",
    "    \n",
    "    def __init__(self, data=None):\n",
    "        self.root = Node(data)\n",
    "    \n",
    "    def insert(self, element):\n",
    "        if self.root is None:\n",
    "            self.root = Node(element)\n",
    "            \n",
    "        else:\n",
    "            q = [self.root]\n",
    "            while len(q) > 0:\n",
    "                temp = q[0]\n",
    "                q.pop(0)\n",
    "                \n",
    "                if temp.data > element:\n",
    "                    if not temp.left:\n",
    "                        temp.left = Node(element)\n",
    "                        print(temp.left.data, \"left\")\n",
    "                        break\n",
    "                    else:\n",
    "                        q.append(temp.left)\n",
    "                else:  \n",
    "                    if not temp.right:\n",
    "                        temp.right = Node(element)\n",
    "                        print(temp.right.data)\n",
    "                        break\n",
    "                    else:\n",
    "                        q.append(temp.right)\n",
    "                    \n",
    "    def inorder(self, root):\n",
    "        if root:\n",
    "            self.inorder(root.left)\n",
    "            print(root.data, end=\" \")\n",
    "            self.inorder(root.right)\n",
    "            \n",
    "    # delete operation\n",
    "    \n",
    "    def delete(self, root, key):\n",
    "        if root is None:\n",
    "            return None\n",
    "        \n",
    "        if key < root.data:\n",
    "            root.left = self.delete(root.left, key)\n",
    "            return root\n",
    "            \n",
    "        if key > root.data:\n",
    "            root.right = self.delete(root.right, key)\n",
    "            return root\n",
    "            \n",
    "        \n",
    "        if root.left is None:\n",
    "            temp = root.right\n",
    "            root = None\n",
    "            return temp\n",
    "            \n",
    "        elif root.right is None:\n",
    "            temp = root.left\n",
    "            root = None\n",
    "            return temp\n",
    "            \n",
    "        succParent = root\n",
    "        \n",
    "        succ = root.right\n",
    "        \n",
    "        while succ.left != None:\n",
    "            succParent = succ\n",
    "            succ = succ.left\n",
    "            \n",
    "        if succParent != root:\n",
    "            succParent.left = succ.right\n",
    "        else:\n",
    "            succParent.right = succ.right\n",
    "            \n",
    "        root.key = succ.key\n",
    "        return root\n",
    "\n",
    "            "
   ]
  },
  {
   "cell_type": "code",
   "execution_count": 127,
   "metadata": {},
   "outputs": [],
   "source": [
    "tree = Tree(3)"
   ]
  },
  {
   "cell_type": "code",
   "execution_count": 128,
   "metadata": {},
   "outputs": [
    {
     "name": "stdout",
     "output_type": "stream",
     "text": [
      "3\n"
     ]
    }
   ],
   "source": [
    "print(tree.root.data)"
   ]
  },
  {
   "cell_type": "code",
   "execution_count": 129,
   "metadata": {},
   "outputs": [
    {
     "name": "stdout",
     "output_type": "stream",
     "text": [
      "4\n",
      "5\n",
      "6\n",
      "7\n",
      "8\n",
      "2 left\n",
      "0 left\n",
      "11\n"
     ]
    }
   ],
   "source": [
    "tree.insert(4)\n",
    "tree.insert(5)\n",
    "tree.insert(6)\n",
    "tree.insert(7)\n",
    "tree.insert(8)\n",
    "tree.insert(2)\n",
    "tree.insert(0)\n",
    "tree.insert(11)"
   ]
  },
  {
   "cell_type": "code",
   "execution_count": 130,
   "metadata": {},
   "outputs": [
    {
     "name": "stdout",
     "output_type": "stream",
     "text": [
      "0 2 3 4 5 6 7 8 11 "
     ]
    }
   ],
   "source": [
    "tree.inorder(tree.root)"
   ]
  },
  {
   "cell_type": "code",
   "execution_count": 44,
   "metadata": {},
   "outputs": [
    {
     "name": "stdout",
     "output_type": "stream",
     "text": [
      "3\n",
      "6\n",
      "12\n",
      "14\n"
     ]
    }
   ],
   "source": [
    "class Node:\n",
    "\n",
    "    def __init__(self, data):\n",
    "\n",
    "        self.left = None\n",
    "        self.right = None\n",
    "        self.data = data\n",
    "\n",
    "    def insert(self, data):\n",
    "# Compare the new value with the parent node\n",
    "        if self.data:\n",
    "            if data < self.data:\n",
    "                if self.left is None:\n",
    "                    self.left = Node(data)\n",
    "                else:\n",
    "                    self.left.insert(data)\n",
    "            elif data > self.data:\n",
    "                if self.right is None:\n",
    "                    self.right = Node(data)\n",
    "                else:\n",
    "                    self.right.insert(data)\n",
    "        else:\n",
    "            self.data = data\n",
    "\n",
    "# Print the tree\n",
    "    def PrintTree(self):\n",
    "        if self.left:\n",
    "            self.left.PrintTree()\n",
    "        print( self.data),\n",
    "        if self.right:\n",
    "            self.right.PrintTree()\n",
    "\n",
    "# Use the insert method to add nodes\n",
    "root = Node(12)\n",
    "root.insert(6)\n",
    "root.insert(14)\n",
    "root.insert(3)\n",
    "\n",
    "root.PrintTree()"
   ]
  },
  {
   "cell_type": "code",
   "execution_count": null,
   "metadata": {},
   "outputs": [],
   "source": []
  }
 ],
 "metadata": {
  "kernelspec": {
   "display_name": "Python 3",
   "language": "python",
   "name": "python3"
  },
  "language_info": {
   "codemirror_mode": {
    "name": "ipython",
    "version": 3
   },
   "file_extension": ".py",
   "mimetype": "text/x-python",
   "name": "python",
   "nbconvert_exporter": "python",
   "pygments_lexer": "ipython3",
   "version": "3.8.5"
  }
 },
 "nbformat": 4,
 "nbformat_minor": 4
}
