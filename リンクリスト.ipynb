{
 "cells": [
  {
   "cell_type": "code",
   "execution_count": 1,
   "metadata": {},
   "outputs": [],
   "source": [
    "# リンクリスト"
   ]
  },
  {
   "cell_type": "code",
   "execution_count": 21,
   "metadata": {},
   "outputs": [
    {
     "name": "stdout",
     "output_type": "stream",
     "text": [
      "1\n",
      "2\n",
      "3\n",
      "4\n",
      "5\n",
      "6\n",
      "7\n",
      "8\n",
      "10\n",
      "9\n"
     ]
    }
   ],
   "source": [
    "class Node:\n",
    "    def __init__(self, data):\n",
    "        self.data = data\n",
    "        self.next = None\n",
    "        \n",
    "class LinkedList:\n",
    "    def __init__(self):\n",
    "        self.head = None\n",
    "        self.tail = None\n",
    "        \n",
    "    def add_node(self, data):\n",
    "        new_node = Node(data)\n",
    "        \n",
    "        if self.head is None:\n",
    "            self.head = new_node\n",
    "        else:\n",
    "            self.tail.next = new_node\n",
    "        \n",
    "        self.tail = new_node\n",
    "        \n",
    "    def add_node_pos(self, data, position):\n",
    "        node = self.head\n",
    "        if position == 0:\n",
    "            new_node = Node(data)\n",
    "            new_node.next = node\n",
    "        count = 1\n",
    "        while count < position:\n",
    "            count+= 1\n",
    "            node = node.next\n",
    "            \n",
    "        new_node = Node(data)\n",
    "        new_node.next = node.next\n",
    "        node.next = new_node\n",
    "        return self.print_linkedlist()\n",
    "            \n",
    "        \n",
    "    def print_linkedlist(self): # To print the Linked List\n",
    "        temp = self.head\n",
    "        while temp:\n",
    "            print(temp.data)\n",
    "            temp = temp.next\n",
    "            \n",
    "    def has_cycle(self):\n",
    "        tort = self.head\n",
    "        if self.head.next:\n",
    "            if self.head.next.next:\n",
    "                hare = self.head.next.next\n",
    "        else:\n",
    "            return False\n",
    "        \n",
    "        while hare.next:\n",
    "            if tort == hare:\n",
    "                return True\n",
    "            tort = tort.next\n",
    "            hare = hare.next\n",
    "        \n",
    "        return False\n",
    "            \n",
    "    \n",
    "            \n",
    "if __name__ == \"__main__\":\n",
    "    ll = LinkedList()\n",
    "    ll.add_node(1)\n",
    "    ll.add_node(2)\n",
    "    ll.add_node(3)\n",
    "    ll.add_node(4)\n",
    "    ll.add_node(5)\n",
    "    ll.add_node(6)\n",
    "    ll.add_node(7)\n",
    "    ll.add_node(8)\n",
    "    ll.add_node(9)\n",
    "    ll.add_node_pos(10, 8)  # Position of Head is 0"
   ]
  },
  {
   "cell_type": "code",
   "execution_count": null,
   "metadata": {},
   "outputs": [],
   "source": []
  },
  {
   "cell_type": "code",
   "execution_count": null,
   "metadata": {},
   "outputs": [],
   "source": []
  },
  {
   "cell_type": "code",
   "execution_count": null,
   "metadata": {},
   "outputs": [],
   "source": []
  }
 ],
 "metadata": {
  "kernelspec": {
   "display_name": "Python 3",
   "language": "python",
   "name": "python3"
  },
  "language_info": {
   "codemirror_mode": {
    "name": "ipython",
    "version": 3
   },
   "file_extension": ".py",
   "mimetype": "text/x-python",
   "name": "python",
   "nbconvert_exporter": "python",
   "pygments_lexer": "ipython3",
   "version": "3.7.3"
  }
 },
 "nbformat": 4,
 "nbformat_minor": 2
}
