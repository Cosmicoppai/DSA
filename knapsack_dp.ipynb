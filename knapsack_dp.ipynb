{
 "cells": [
  {
   "cell_type": "code",
   "execution_count": 1,
   "metadata": {},
   "outputs": [],
   "source": [
    "# Dynamic Programming"
   ]
  },
  {
   "cell_type": "code",
   "execution_count": 2,
   "metadata": {},
   "outputs": [],
   "source": [
    "# Coin change"
   ]
  },
  {
   "cell_type": "code",
   "execution_count": null,
   "metadata": {},
   "outputs": [],
   "source": []
  },
  {
   "cell_type": "code",
   "execution_count": 4,
   "metadata": {},
   "outputs": [],
   "source": [
    "# Knapsack"
   ]
  },
  {
   "cell_type": "code",
   "execution_count": null,
   "metadata": {},
   "outputs": [],
   "source": [
    "# Recursive approach\n",
    "\n",
    "def knapsack(weight_arr, value_arr, bag_limit, n):\n",
    "    \n",
    "    if bag_limit == 0 or n == 0:\n",
    "        return 0\n",
    "    elif weight_arr[n-1] > bag_limit:\n",
    "        return knapsack(weight_arr, value_arr, bag_limit, n-1)\n",
    "    else:\n",
    "        return max(knapsack(weight_arr, value_arr, bag_limit, n-1),\n",
    "                   knapsack(weight_arr, value_arr, bag_limit - weight_arr[n-1], n-1) + weight_arr[n-1])"
   ]
  },
  {
   "cell_type": "code",
   "execution_count": null,
   "metadata": {},
   "outputs": [],
   "source": [
    "# Dynamic Approach\n",
    "\n",
    "def knapsack(weight_arr, value_arr, bag_limit, n):\n",
    "    dp = [[0 for i in range(w+1)] 0 for j in range(n+1)]\n",
    "    \n",
    "    for i in range(n+1):\n",
    "        for j in range(w+1):\n",
    "            if weight_arr[i] <= bag_limit:\n",
    "                dp[i][j] = max(dp[i-1][j], dp[i-1][j- weight_arr[i-1]] + value_arr[i-1])\n",
    "            else:\n",
    "                dp[i][j] = dp[i-1][j]\n",
    "    \n",
    "    return dp[w][n]"
   ]
  },
  {
   "cell_type": "code",
   "execution_count": null,
   "metadata": {},
   "outputs": [],
   "source": [
    "# Knapsack unbounded"
   ]
  },
  {
   "cell_type": "code",
   "execution_count": 59,
   "metadata": {},
   "outputs": [],
   "source": [
    "def Unbounded_Knapsack(arr, k):\n",
    "    n = len(arr)\n",
    "    \n",
    "    dp = [0 for i in range(k+1)]\n",
    "    \n",
    "    for i in range(k+1):\n",
    "        for j in range(n+1):\n",
    "            if arr[j] <= i:\n",
    "                dp[i] = max(dp[i], dp[i - arr[j]] + arr[j])\n",
    "                \n",
    "    return dp[w]"
   ]
  },
  {
   "cell_type": "code",
   "execution_count": 49,
   "metadata": {},
   "outputs": [
    {
     "data": {
      "text/plain": [
       "(5, [0, 1, 1, 2, 5, 27])"
      ]
     },
     "execution_count": 49,
     "metadata": {},
     "output_type": "execute_result"
    }
   ],
   "source": [
    "def fibonacciModified(t1, t2, n):\n",
    "    f = [0]*(n+1)\n",
    "    f[0] = t1\n",
    "    f[1] = t2\n",
    "    \n",
    "    for i in range(2, n+1):\n",
    "        f[i] = f[i-2] + (f[i-1])**2\n",
    "        \n",
    "    return f[n-1]\n",
    "\n",
    "fibonacciModified(0, 1, 5)"
   ]
  },
  {
   "cell_type": "code",
   "execution_count": null,
   "metadata": {},
   "outputs": [],
   "source": []
  }
 ],
 "metadata": {
  "kernelspec": {
   "display_name": "Python 3",
   "language": "python",
   "name": "python3"
  },
  "language_info": {
   "codemirror_mode": {
    "name": "ipython",
    "version": 3
   },
   "file_extension": ".py",
   "mimetype": "text/x-python",
   "name": "python",
   "nbconvert_exporter": "python",
   "pygments_lexer": "ipython3",
   "version": "3.7.3"
  }
 },
 "nbformat": 4,
 "nbformat_minor": 2
}
