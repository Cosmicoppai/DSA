{
 "cells": [
  {
   "cell_type": "code",
   "execution_count": 6,
   "metadata": {},
   "outputs": [],
   "source": [
    "# Dynamic Programming"
   ]
  },
  {
   "cell_type": "code",
   "execution_count": 1,
   "metadata": {},
   "outputs": [],
   "source": [
    "# Subset Sum Problem"
   ]
  },
  {
   "cell_type": "code",
   "execution_count": 70,
   "metadata": {},
   "outputs": [
    {
     "name": "stdout",
     "output_type": "stream",
     "text": [
      "-1\n"
     ]
    }
   ],
   "source": [
    "#　俺の方法\n",
    "\n",
    "subset = [5,2,4,1,7,6,8]\n",
    "sum_value = 16\n",
    "\n",
    "def solution(subset, sum_value):\n",
    "    ans_set = []\n",
    "    \n",
    "    for i in range(len(subset)):\n",
    "        if subset[i] == sum_value:\n",
    "            ans_set.append(subset[i])\n",
    "            \n",
    "        elif i == len(subset)-1:\n",
    "            if subset[i] != sum_value:\n",
    "                break  \n",
    "        else:\n",
    "            j = i+1\n",
    "            ans = subset[i]\n",
    "            a = [subset[i]]\n",
    "            while j < len(subset):\n",
    "                if (ans + subset[j]) > sum_value:\n",
    "                    j+= 1\n",
    "                else:\n",
    "                    ans += subset[j]\n",
    "                    a.append(subset[j])\n",
    "                    j += 1\n",
    "                    \n",
    "            # print(ans, a)\n",
    "            if ans == sum_value:\n",
    "                ans_set.append(a)\n",
    "                \n",
    "    if len(ans_set) > 0:\n",
    "        return ans_set,  True\n",
    "    else:\n",
    "        return -1\n",
    "\n",
    "print(solution(subset, sum_value))\n",
    "            "
   ]
  },
  {
   "cell_type": "code",
   "execution_count": 71,
   "metadata": {},
   "outputs": [],
   "source": [
    "#　インターネットから"
   ]
  },
  {
   "cell_type": "code",
   "execution_count": 78,
   "metadata": {},
   "outputs": [],
   "source": [
    "# Recursive Approach\n",
    "def sol(subset, n, sum_value):\n",
    "    if n == 0 and sum_value != 0:\n",
    "        return False\n",
    "    elif sum_value == 0:\n",
    "        return True\n",
    "    elif sum_value == 0 and n == 0:\n",
    "        return True\n",
    "    \n",
    "    else:\n",
    "        return sol(subset, n-1, sum_value - subset[n-1]) | sol(subset, n-1, sum_value)"
   ]
  },
  {
   "cell_type": "code",
   "execution_count": 79,
   "metadata": {},
   "outputs": [
    {
     "name": "stdout",
     "output_type": "stream",
     "text": [
      "True\n"
     ]
    }
   ],
   "source": [
    "n = len(subset)\n",
    "print(sol(subset, n ,sum_value ))"
   ]
  },
  {
   "cell_type": "code",
   "execution_count": 74,
   "metadata": {},
   "outputs": [],
   "source": [
    "# Dynamic Method"
   ]
  },
  {
   "cell_type": "code",
   "execution_count": null,
   "metadata": {},
   "outputs": [],
   "source": []
  },
  {
   "cell_type": "code",
   "execution_count": 75,
   "metadata": {},
   "outputs": [],
   "source": [
    "# Count Subsets with given sum"
   ]
  },
  {
   "cell_type": "code",
   "execution_count": 76,
   "metadata": {},
   "outputs": [
    {
     "data": {
      "text/plain": [
       "6"
      ]
     },
     "execution_count": 76,
     "metadata": {},
     "output_type": "execute_result"
    }
   ],
   "source": [
    "# Recursive Approach\n",
    "\n",
    "def sol(subset, n, sum_value):\n",
    "    if n == 0 and sum_value != 0:\n",
    "        return 0\n",
    "    elif sum_value == 0:\n",
    "        return 1\n",
    "    elif sum_value == 0 and n == 0:\n",
    "        return 1\n",
    "    else:\n",
    "        return sol(subset, n-1, sum_value - subset[n-1]) + sol(subset, n-1, sum_value)\n",
    "    \n",
    "sol(subset, n, sum_value)"
   ]
  },
  {
   "cell_type": "code",
   "execution_count": 83,
   "metadata": {},
   "outputs": [
    {
     "data": {
      "text/plain": [
       "(64,\n",
       " [[1, 1, 1, 1, 1, 1, 1, 1, 1, 1, 1, 1, 1, 1, 1, 1, 1],\n",
       "  [1, 1, 1, 1, 1, 2, 2, 2, 2, 2, 2, 2, 2, 2, 2, 2, 2],\n",
       "  [1, 1, 2, 2, 2, 3, 3, 4, 4, 4, 4, 4, 4, 4, 4, 4, 4],\n",
       "  [1, 1, 2, 2, 3, 4, 5, 6, 6, 7, 7, 8, 8, 8, 8, 8, 8],\n",
       "  [1, 2, 3, 4, 5, 7, 9, 11, 12, 13, 14, 15, 16, 16, 16, 16, 16],\n",
       "  [1, 2, 3, 4, 5, 7, 9, 12, 14, 16, 18, 20, 23, 25, 27, 28, 29],\n",
       "  [1, 2, 3, 4, 5, 7, 10, 14, 17, 20, 23, 27, 32, 37, 41, 44, 47],\n",
       "  [1, 2, 3, 4, 5, 7, 10, 14, 18, 22, 26, 31, 37, 44, 51, 58, 64]])"
      ]
     },
     "execution_count": 83,
     "metadata": {},
     "output_type": "execute_result"
    }
   ],
   "source": [
    "# Dynamic Approach\n",
    "\n",
    "def sol(subset, n, sum_value):\n",
    "    dp = [[-1 for _ in range(sum_value+1)] for _ in range(n+1)]\n",
    "    \n",
    "    for i in range(n+1):\n",
    "        for j in range(sum_value+1):\n",
    "            if i == 0 or j == 0:\n",
    "                dp[i][j] = 1\n",
    "            elif subset[i-1] > j:\n",
    "                dp[i][j] = dp[i-1][j]\n",
    "            else:\n",
    "                dp[i][j] = dp[i-1][j] + dp[i-1][j - subset[i-1]]\n",
    "                \n",
    "                \n",
    "    return dp[n][sum_value], dp\n",
    "    \n",
    "    \n",
    "n = len(subset)\n",
    "sol(subset, n, sum_value)\n",
    "            "
   ]
  },
  {
   "cell_type": "code",
   "execution_count": null,
   "metadata": {},
   "outputs": [],
   "source": [
    "# Egg Drop Problem"
   ]
  },
  {
   "cell_type": "code",
   "execution_count": 60,
   "metadata": {},
   "outputs": [],
   "source": [
    "class Solution:\n",
    "    def superEggDrop(self, egg: int, floor: int) -> int:\n",
    "        dp = [[0]*(egg+1) for i in range(floor+1)]\n",
    "        for i in range(1 , floor+1):\n",
    "            for j in range(1 , egg + 1):\n",
    "                dp[i][j] =  1 + dp[i-1][j] + dp[i-1][j-1]\n",
    "                if dp[i][j] >= floor:\n",
    "                    return i"
   ]
  },
  {
   "cell_type": "code",
   "execution_count": 66,
   "metadata": {},
   "outputs": [
    {
     "data": {
      "text/plain": [
       "2"
      ]
     },
     "execution_count": 66,
     "metadata": {},
     "output_type": "execute_result"
    }
   ],
   "source": [
    "Solution().superEggDrop(1, 2)"
   ]
  },
  {
   "cell_type": "code",
   "execution_count": 54,
   "metadata": {},
   "outputs": [
    {
     "name": "stdout",
     "output_type": "stream",
     "text": [
      "成功 [6, 1, 0, -100000, -1]\n"
     ]
    }
   ],
   "source": [
    "# Maximum Sub-array\n",
    "\n",
    "class Solution:\n",
    "    def maxSubArray(self, nums) -> int:\n",
    "        nums_copy = nums.copy()\n",
    "        nums_copy.sort()\n",
    "        l = len(nums)\n",
    "        if l == 1:\n",
    "            return nums[0]\n",
    "        elif nums_copy[-1] < 0:\n",
    "            return nums_copy[0]\n",
    "        elif nums_copy[-1] == 0:\n",
    "            nums_copy.delete()\n",
    "            return 0\n",
    "        else:\n",
    "            local_max = 0\n",
    "            global_max = -10000000\n",
    "\n",
    "            for i in range(l):\n",
    "                local_max = local_max + nums[i]\n",
    "                if local_max < 0:\n",
    "                    local_max = 0\n",
    "                elif global_max < local_max:\n",
    "                    global_max = local_max      \n",
    "\n",
    "            return global_max\n",
    "        \n",
    "nums = [[-2,1,-3,4,-1,2,1,-5,4], [1], [0], [-100000], [-1], [-2, -1]]\n",
    "ans = [6, 1, 0, -100000, -1]\n",
    "ans1 = []\n",
    "\n",
    "for i in range(len(nums)):\n",
    "    a = Solution().maxSubArray(nums[i])\n",
    "    ans1.append(a)\n",
    "if ans == ans1:\n",
    "    print(\"成功\",ans1)\n",
    "else:\n",
    "    print(\"失敗\", ans1)"
   ]
  },
  {
   "cell_type": "code",
   "execution_count": 127,
   "metadata": {},
   "outputs": [],
   "source": [
    "# From Leetcode More Efficient Method\n",
    "class Solution:\n",
    "    def maxSubArray(self, nums) -> int:\n",
    "        allmax = nums[0]\n",
    "        curmax = nums[0]\n",
    "        for i in nums[1:]:\n",
    "            if curmax + i > i:\n",
    "                curmax = curmax + i\n",
    "            else:\n",
    "                curmax = i\n",
    "            if curmax > allmax:\n",
    "                allmax = curmax\n",
    "                \n",
    "        return allmax\n",
    "    \n",
    "# Space Efficient Method\n",
    "\n",
    "class Solution:\n",
    "    def maxSubArray(self, nums) -> int:\n",
    "        max_sum = float('-inf')\n",
    "        cur_sum = 0\n",
    "        for n in nums:\n",
    "            cur_sum += n\n",
    "            max_sum = max(max_sum,cur_sum)\n",
    "            if cur_sum < 0:\n",
    "                cur_sum = 0\n",
    "        return max_sum"
   ]
  },
  {
   "cell_type": "code",
   "execution_count": 55,
   "metadata": {},
   "outputs": [],
   "source": [
    "# Rod Cutting Problem"
   ]
  },
  {
   "cell_type": "code",
   "execution_count": 115,
   "metadata": {},
   "outputs": [],
   "source": [
    "# Recursive Approach\n",
    "\n",
    "cuttable_length = [1, 2, 3, 4]\n",
    "price = [1, 5, 8, 9]\n",
    "total_length = 9\n",
    "n = 0\n",
    "def max_profit(cuttable_length, price, n, total_length):\n",
    "    if n == len(cuttable_length) or total_length <= 0:\n",
    "        return 0\n",
    "    elif cuttable_length[n] > total_length:\n",
    "        return max_profit(cuttable_length, price, n+1, total_length)\n",
    "    else:\n",
    "        return max(max_profit(cuttable_length, price, n, total_length - cuttable_length[n]) + price[n],\n",
    "                   max_profit(cuttable_length, price, n+1, total_length))"
   ]
  },
  {
   "cell_type": "code",
   "execution_count": 116,
   "metadata": {},
   "outputs": [
    {
     "name": "stdout",
     "output_type": "stream",
     "text": [
      "24\n"
     ]
    }
   ],
   "source": [
    "print(max_profit(cuttable_length, price, n, total_length))"
   ]
  },
  {
   "cell_type": "code",
   "execution_count": 119,
   "metadata": {},
   "outputs": [],
   "source": [
    "# Dynamic Approach (Memoization)\n",
    "def max_profit(cuttable_length, price, n, total_length):\n",
    "    \n",
    "    dp = [[0 for i in range(total_length+1)] for j in range(len(cuttable_length)+1)]\n",
    "    \n",
    "    for i in range(len(cuttable_length)+1):\n",
    "        for j in range(total_length+1):\n",
    "            if i == 0 or j == 0:\n",
    "                dp[i][j] = 0\n",
    "            elif cuttable_length[i-1] <= j:\n",
    "                dp[i][j] =  max(price[i-1] + dp[i][j-cuttable_length[i-1]], dp[i-1][j])\n",
    "            else:\n",
    "                dp[i][j] = dp[i-1][j]\n",
    "                \n",
    "    return dp[len(cuttable_length)][total_length], dp"
   ]
  },
  {
   "cell_type": "code",
   "execution_count": 120,
   "metadata": {},
   "outputs": [
    {
     "name": "stdout",
     "output_type": "stream",
     "text": [
      "(24, [[0, 0, 0, 0, 0, 0, 0, 0, 0, 0], [0, 1, 2, 3, 4, 5, 6, 7, 8, 9], [0, 1, 5, 6, 10, 11, 15, 16, 20, 21], [0, 1, 5, 8, 10, 13, 16, 18, 21, 24], [0, 1, 5, 8, 10, 13, 16, 18, 21, 24]])\n"
     ]
    }
   ],
   "source": [
    "print(max_profit(cuttable_length, price, n, total_length))"
   ]
  },
  {
   "cell_type": "code",
   "execution_count": 121,
   "metadata": {},
   "outputs": [
    {
     "name": "stdout",
     "output_type": "stream",
     "text": [
      "[5, 0, 10, 1, 2, 3] [0, 1, 2, 3, 5, 10]\n"
     ]
    }
   ],
   "source": [
    "a = [5, 0, 10, 1, 2, 3]\n",
    "b = a.copy()\n",
    "b.sort()\n",
    "print(a, b)"
   ]
  },
  {
   "cell_type": "code",
   "execution_count": 131,
   "metadata": {},
   "outputs": [],
   "source": []
  },
  {
   "cell_type": "code",
   "execution_count": null,
   "metadata": {},
   "outputs": [],
   "source": []
  },
  {
   "cell_type": "code",
   "execution_count": null,
   "metadata": {},
   "outputs": [],
   "source": []
  }
 ],
 "metadata": {
  "kernelspec": {
   "display_name": "Python 3",
   "language": "python",
   "name": "python3"
  },
  "language_info": {
   "codemirror_mode": {
    "name": "ipython",
    "version": 3
   },
   "file_extension": ".py",
   "mimetype": "text/x-python",
   "name": "python",
   "nbconvert_exporter": "python",
   "pygments_lexer": "ipython3",
   "version": "3.7.3"
  }
 },
 "nbformat": 4,
 "nbformat_minor": 2
}
