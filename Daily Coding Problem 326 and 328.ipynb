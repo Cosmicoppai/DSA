{
 "cells": [
  {
   "cell_type": "code",
   "execution_count": 5,
   "metadata": {},
   "outputs": [],
   "source": [
    "# Elo rating system\n",
    "from typing import List"
   ]
  },
  {
   "cell_type": "code",
   "execution_count": 15,
   "metadata": {},
   "outputs": [],
   "source": [
    "def elo_system(player1_point: int, player2_point: int, player1_rank: int, player2_rank:int, win=None) -> List[int]:\n",
    "    if win != None:\n",
    "        if win == \"Player1\":\n",
    "            if player1_rank > player2_rank:\n",
    "                player1_point += (player1_rank - player2_rank)//10\n",
    "            else:\n",
    "                player_point += abs(player1_rank - player2_rank)//5\n",
    "            return [player1_point, player2_point]\n",
    "        \n",
    "        if player2_rank > player1_rank: \n",
    "            player2_point += abs(player1_rank - player2_rank)//10\n",
    "        else:\n",
    "            player2_point += abs(player1_rank - player2_rank)//5\n",
    "        \n",
    "        return [player1_point, player2_point]"
   ]
  },
  {
   "cell_type": "code",
   "execution_count": 17,
   "metadata": {},
   "outputs": [
    {
     "name": "stdout",
     "output_type": "stream",
     "text": [
      "[70, 0]\n",
      "[70, 200]\n"
     ]
    }
   ],
   "source": [
    "if __name__ == \"__main__\":\n",
    "    print(elo_system(0,0, 2000, 1300, win=\"Player1\"))\n",
    "    print(elo_system(70, 0, 2000,1000, win=\"Player2\"))"
   ]
  },
  {
   "cell_type": "code",
   "execution_count": 18,
   "metadata": {},
   "outputs": [],
   "source": [
    "# DCP problem 326 Cartesian tree"
   ]
  },
  {
   "cell_type": "code",
   "execution_count": 23,
   "metadata": {},
   "outputs": [],
   "source": [
    "class Node:\n",
    "    \n",
    "    def __init__(self, key=None):\n",
    "        self.left = None\n",
    "        self.right = None\n",
    "        self.val = key"
   ]
  },
  {
   "cell_type": "code",
   "execution_count": 50,
   "metadata": {},
   "outputs": [],
   "source": [
    "class CartesianTree:\n",
    "    \n",
    "    def __init__(self, val=None):\n",
    "        self.root = Node(val)\n",
    "        \n",
    "    def insert(self, val):\n",
    "        if self.root is None:\n",
    "            self.root = Node(val)\n",
    "        if self.root.val < val:\n",
    "            self.root.right = Node(val)\n",
    "        else:\n",
    "            temp = self.root\n",
    "            self.root = Node(val)\n",
    "            self.root.left = temp\n",
    "            \n",
    "    def inorder_traversal(self, root, traversed_list):\n",
    "        if root:\n",
    "            self.inorder_traversal(root.left, traversed_list)\n",
    "            traversed_list.append(root.val)\n",
    "            self.inorder_traversal(root.right, traversed_list)\n",
    "        return traversed_list\n",
    "        "
   ]
  },
  {
   "cell_type": "code",
   "execution_count": 51,
   "metadata": {},
   "outputs": [
    {
     "name": "stdout",
     "output_type": "stream",
     "text": [
      "Test Passed\n"
     ]
    }
   ],
   "source": [
    "if __name__ == \"__main__\":\n",
    "    test = [[3, 2, 6, 1, 9], ]\n",
    "    for i in test:\n",
    "        tree = CartesianTree(i[0])\n",
    "        for j in i[1:]:\n",
    "            tree.insert(j)\n",
    "        if tree.inorder_traversal(tree.root, []) == i:\n",
    "            print(\"Test Passed\")\n",
    "        else:\n",
    "            print(\"Test Failed\")\n",
    "        "
   ]
  },
  {
   "cell_type": "code",
   "execution_count": 32,
   "metadata": {},
   "outputs": [
    {
     "data": {
      "text/plain": [
       "1"
      ]
     },
     "execution_count": 32,
     "metadata": {},
     "output_type": "execute_result"
    }
   ],
   "source": [
    "tree.root.val"
   ]
  },
  {
   "cell_type": "code",
   "execution_count": 33,
   "metadata": {},
   "outputs": [
    {
     "data": {
      "text/plain": [
       "2"
      ]
     },
     "execution_count": 33,
     "metadata": {},
     "output_type": "execute_result"
    }
   ],
   "source": [
    "tree.root.left.val"
   ]
  },
  {
   "cell_type": "code",
   "execution_count": 34,
   "metadata": {},
   "outputs": [
    {
     "data": {
      "text/plain": [
       "3"
      ]
     },
     "execution_count": 34,
     "metadata": {},
     "output_type": "execute_result"
    }
   ],
   "source": [
    "tree.root.left.left.val"
   ]
  },
  {
   "cell_type": "code",
   "execution_count": 35,
   "metadata": {},
   "outputs": [
    {
     "data": {
      "text/plain": [
       "6"
      ]
     },
     "execution_count": 35,
     "metadata": {},
     "output_type": "execute_result"
    }
   ],
   "source": [
    "tree.root.left.right.val"
   ]
  },
  {
   "cell_type": "code",
   "execution_count": 36,
   "metadata": {},
   "outputs": [
    {
     "data": {
      "text/plain": [
       "9"
      ]
     },
     "execution_count": 36,
     "metadata": {},
     "output_type": "execute_result"
    }
   ],
   "source": [
    "tree.root.right.val"
   ]
  },
  {
   "cell_type": "code",
   "execution_count": null,
   "metadata": {},
   "outputs": [],
   "source": []
  }
 ],
 "metadata": {
  "kernelspec": {
   "display_name": "Python 3",
   "language": "python",
   "name": "python3"
  },
  "language_info": {
   "codemirror_mode": {
    "name": "ipython",
    "version": 3
   },
   "file_extension": ".py",
   "mimetype": "text/x-python",
   "name": "python",
   "nbconvert_exporter": "python",
   "pygments_lexer": "ipython3",
   "version": "3.8.5"
  }
 },
 "nbformat": 4,
 "nbformat_minor": 4
}
