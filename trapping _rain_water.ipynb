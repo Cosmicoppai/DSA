{
 "cells": [
  {
   "cell_type": "code",
   "execution_count": 1,
   "metadata": {},
   "outputs": [],
   "source": [
    "# Leetode Invalid Tweets"
   ]
  },
  {
   "cell_type": "code",
   "execution_count": 3,
   "metadata": {},
   "outputs": [
    {
     "data": {
      "text/plain": [
       "'select tweet_id\\nfrom Tweets\\nwhere length(content) > 15;'"
      ]
     },
     "execution_count": 3,
     "metadata": {},
     "output_type": "execute_result"
    }
   ],
   "source": [
    "\"\"\"select tweet_id\n",
    "from Tweets\n",
    "where length(content) > 15;\"\"\"\n"
   ]
  },
  {
   "cell_type": "code",
   "execution_count": 4,
   "metadata": {},
   "outputs": [],
   "source": [
    "# Trapping Rain Water"
   ]
  },
  {
   "cell_type": "code",
   "execution_count": 45,
   "metadata": {},
   "outputs": [],
   "source": [
    "# Brute Force Method\n",
    "\n",
    "def max_amount_of_water(arr):\n",
    "    n = len(arr)\n",
    "    max_water = 0\n",
    "    \n",
    "    for i in range(1, n):\n",
    "        left = arr[0]\n",
    "        for j in range(n):\n",
    "            left = max(left, arr[j])\n",
    "            \n",
    "        right = arr[n-1]\n",
    "        for j in range(n-2, -1, -1):\n",
    "            right = max(right, arr[j])\n",
    "            \n",
    "        max_water+= min(left, right) - arr[i]\n",
    "        \n",
    "    return max_water\n",
    "# O(n) and O(!)"
   ]
  },
  {
   "cell_type": "code",
   "execution_count": null,
   "metadata": {},
   "outputs": [],
   "source": [
    "# Efficient Version\n",
    "\n",
    "def max_water(arr):\n",
    "    n = len(arr)\n",
    "    if n < 3:\n",
    "        return 0\n",
    "    left = [0]*n\n",
    "    right = [0]*n\n",
    "    \n",
    "    left[0] = arr[0]\n",
    "    for i in range(1, n):\n",
    "        left[i] = max(left[i-1], arr[i])\n",
    "        \n",
    "    right[n-1] = arr[n-1]\n",
    "    for i in range(n-2, -1, -1):\n",
    "        right[i] = max(right[i+1], arr[i])\n",
    "        \n",
    "    for k in range(n):\n",
    "        max_water+= min(left[k], right[k]) - arr[k]\n",
    "        \n",
    "    return max_water  # O(n) and O(n)"
   ]
  },
  {
   "cell_type": "code",
   "execution_count": 29,
   "metadata": {},
   "outputs": [
    {
     "name": "stdout",
     "output_type": "stream",
     "text": [
      "1\n"
     ]
    }
   ],
   "source": [
    "arr = [-2, -11, -4, -13, -5, 1]\n",
    "\n",
    "local_max = 0\n",
    "global_max = 0\n",
    "n = len(arr)\n",
    "\n",
    "for i in range(n):\n",
    "    local_max+= arr[i]\n",
    "    if local_max < 0:\n",
    "        local_max = 0\n",
    "    elif local_max > global_max:\n",
    "        global_max = local_max\n",
    "print(global_max)  "
   ]
  },
  {
   "cell_type": "code",
   "execution_count": 35,
   "metadata": {},
   "outputs": [
    {
     "name": "stdout",
     "output_type": "stream",
     "text": [
      "-1\n"
     ]
    }
   ],
   "source": [
    "# Kadanes For all negative number\n",
    "\n",
    "\n",
    "arr = [-2, -11, -4, -13, -5, -1]\n",
    "\n",
    "local_max = float('-inf')\n",
    "global_max = float('-inf')\n",
    "max_so_far = 0\n",
    "n = len(arr)\n",
    "\n",
    "for i in range(n):\n",
    "    local_max = max(local_max + arr[i], 0)\n",
    "    max_so_far = max(max_so_far, local_max)\n",
    "    global_max = max(arr[i], global_max)\n",
    "    \n",
    "    if max_so_far == 0:\n",
    "        max_so_far = global_max\n",
    "        \n",
    "print(max_so_far)"
   ]
  },
  {
   "cell_type": "code",
   "execution_count": 43,
   "metadata": {},
   "outputs": [
    {
     "name": "stdout",
     "output_type": "stream",
     "text": [
      "[[0, 0, 0, 0], [0, 0, 0, 0], [0, 0, 0, 0], [0, 0, 0, 0], [0, 0, 0, 1]]\n"
     ]
    }
   ],
   "source": [
    "dp = [[0 for i in range(4)] for i in range(5)]\n",
    "dp[4][3] = 1\n",
    "print(dp)"
   ]
  },
  {
   "cell_type": "code",
   "execution_count": 44,
   "metadata": {},
   "outputs": [
    {
     "name": "stdout",
     "output_type": "stream",
     "text": [
      "1\n"
     ]
    }
   ],
   "source": [
    "print(dp[4][3])"
   ]
  },
  {
   "cell_type": "code",
   "execution_count": null,
   "metadata": {},
   "outputs": [],
   "source": []
  }
 ],
 "metadata": {
  "kernelspec": {
   "display_name": "Python 3",
   "language": "python",
   "name": "python3"
  },
  "language_info": {
   "codemirror_mode": {
    "name": "ipython",
    "version": 3
   },
   "file_extension": ".py",
   "mimetype": "text/x-python",
   "name": "python",
   "nbconvert_exporter": "python",
   "pygments_lexer": "ipython3",
   "version": "3.7.3"
  }
 },
 "nbformat": 4,
 "nbformat_minor": 2
}
