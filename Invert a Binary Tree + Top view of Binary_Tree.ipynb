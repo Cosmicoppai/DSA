{
 "cells": [
  {
   "cell_type": "code",
   "execution_count": 1,
   "metadata": {},
   "outputs": [],
   "source": [
    "# Invert a Binary Tree"
   ]
  },
  {
   "cell_type": "code",
   "execution_count": 2,
   "metadata": {},
   "outputs": [],
   "source": [
    "# class Tree:\n",
    "#     def __init__(self, val, left=None, right=None):\n",
    "#         self.val = val\n",
    "#         self.left = left\n",
    "#         self.right = right\n",
    "class Solution:\n",
    "    def solve(self, root):\n",
    "        base = root\n",
    "        if root:\n",
    "            self.solve(root.left)\n",
    "            self.solve(root.right)\n",
    "\n",
    "            temp = root.left\n",
    "            root.left = root.right\n",
    "            root.right = temp\n",
    "\n",
    "        return base"
   ]
  },
  {
   "cell_type": "code",
   "execution_count": 3,
   "metadata": {},
   "outputs": [],
   "source": [
    "# Top View of Binary Tree"
   ]
  },
  {
   "cell_type": "code",
   "execution_count": null,
   "metadata": {},
   "outputs": [],
   "source": [
    "# class Tree:\n",
    "#     def __init__(self, val, left=None, right=None):\n",
    "#         self.val = val\n",
    "#         self.left = left\n",
    "#         self.right = right\n",
    "class Solution:\n",
    "    def solve(self, root):\n",
    "        d = {}\n",
    "\n",
    "    # Create function for traversing\n",
    "        def traverse(root, key, level):\n",
    "            if root:\n",
    "                # Key not present in dictionary\n",
    "                if key not in d:\n",
    "                    d[key] = [root.val, level]\n",
    "                # Key with lesser level\n",
    "                elif d[key][1] > level:\n",
    "                    d[key] = [root.val, level]\n",
    "\n",
    "                # traverse to left and right of tree\n",
    "                traverse(root.left, key-1, level+1)\n",
    "                traverse(root.right, key+1, level+1)\n",
    "\n",
    "        traverse(root,0,0)\n",
    "        # print the elements in order\n",
    "        a = []\n",
    "        for key in sorted(d):\n",
    "            a.append(d[key][0])\n",
    "\n",
    "        return a"
   ]
  }
 ],
 "metadata": {
  "kernelspec": {
   "display_name": "Python 3",
   "language": "python",
   "name": "python3"
  },
  "language_info": {
   "codemirror_mode": {
    "name": "ipython",
    "version": 3
   },
   "file_extension": ".py",
   "mimetype": "text/x-python",
   "name": "python",
   "nbconvert_exporter": "python",
   "pygments_lexer": "ipython3",
   "version": "3.8.5"
  }
 },
 "nbformat": 4,
 "nbformat_minor": 4
}
