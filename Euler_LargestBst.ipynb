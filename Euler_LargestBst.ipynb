{
 "cells": [
  {
   "cell_type": "code",
   "execution_count": 2,
   "metadata": {},
   "outputs": [],
   "source": [
    "class Node:\n",
    "    def __init__(self, data=None):\n",
    "        self.left = None\n",
    "        self.right = None\n",
    "        self.val = data"
   ]
  },
  {
   "cell_type": "code",
   "execution_count": 30,
   "metadata": {},
   "outputs": [],
   "source": [
    "def insert(root=None, data=None):\n",
    "    if root is None:\n",
    "        root = Node(data)\n",
    "        \n",
    "    if data is None:\n",
    "        return\n",
    "        \n",
    "    if root.val > data:\n",
    "        if root.left is None:\n",
    "            root.left = Node(data)\n",
    "        else:\n",
    "            insert(root.left, data)\n",
    "            \n",
    "    else:\n",
    "        if root.right is None:\n",
    "            root.right = Node(data)\n",
    "        else:\n",
    "            insert(root.right, data)\n",
    "            \n",
    "def print_tree(root, array):\n",
    "    if root is None:\n",
    "        return\n",
    "    print_tree(root.left, array)\n",
    "    array.append(root)\n",
    "    print_tree(root.right, array)\n",
    "    \n",
    "def eulerian_path(root, euler_path):  # Parameters: (Node and Empty Array)\n",
    "    euler_path.append(root.val)\n",
    "    \n",
    "    if root.left:\n",
    "        eulerian_path(root.left, euler_path)\n",
    "        euler_path.append(root.val)\n",
    "        \n",
    "    if root.right:\n",
    "        eulerian_path(root.right, euler_path)\n",
    "        euler_path.append(root.val)\n",
    "        \n",
    "    # print(euler_path)\n",
    "    "
   ]
  },
  {
   "cell_type": "code",
   "execution_count": 31,
   "metadata": {},
   "outputs": [],
   "source": [
    "root = Node(25)"
   ]
  },
  {
   "cell_type": "code",
   "execution_count": 32,
   "metadata": {},
   "outputs": [],
   "source": [
    "\n",
    "insert(root, 15)\n",
    "insert(root, 50)\n",
    "insert(root, 10)\n",
    "insert(root, 22)\n",
    "insert(root, 35)\n",
    "insert(root, 70)\n",
    "insert(root, 4)\n",
    "insert(root, 12)\n",
    "insert(root, 18)\n",
    "insert(root, 24)\n",
    "insert(root, 31)\n",
    "insert(root, 44)\n",
    "insert(root, 66)\n",
    "insert(root, 90)"
   ]
  },
  {
   "cell_type": "code",
   "execution_count": 11,
   "metadata": {},
   "outputs": [],
   "source": [
    "euler_path = []\n",
    "# euler_path.append(100)\n",
    "eulerian_path(root, euler_path)"
   ]
  },
  {
   "cell_type": "code",
   "execution_count": 12,
   "metadata": {},
   "outputs": [
    {
     "name": "stdout",
     "output_type": "stream",
     "text": [
      "[25, 15, 10, 5, 4, 5, 10, 12, 10, 15, 22, 18, 22, 24, 22, 15, 25, 50, 31, 44, 31, 50, 70, 66, 70, 90, 70, 50, 25]\n"
     ]
    }
   ],
   "source": [
    "print(euler_path)"
   ]
  },
  {
   "cell_type": "code",
   "execution_count": 13,
   "metadata": {},
   "outputs": [],
   "source": [
    "# Check if a Tree is Binary Search Tree or not"
   ]
  },
  {
   "cell_type": "code",
   "execution_count": 14,
   "metadata": {},
   "outputs": [],
   "source": [
    "def isBst(root, min_val, max_val):\n",
    "    if root is None:\n",
    "        return 1\n",
    "    if root.val < min_val or root.val > max_val:\n",
    "        return 0\n",
    "    \n",
    "    return isBst(root.left, min_val, root.val)+1 and isBst(root.right, root.val, max_val)+1"
   ]
  },
  {
   "cell_type": "code",
   "execution_count": 15,
   "metadata": {},
   "outputs": [
    {
     "data": {
      "text/plain": [
       "5"
      ]
     },
     "execution_count": 15,
     "metadata": {},
     "output_type": "execute_result"
    }
   ],
   "source": [
    "isBst(root, float('-inf'), float('inf'))"
   ]
  },
  {
   "cell_type": "code",
   "execution_count": 18,
   "metadata": {},
   "outputs": [],
   "source": [
    "def isLargestBinaryTree(root):\n",
    "    node_dict = {}\n",
    "    all_nodes = []\n",
    "    print_tree(root, all_nodes)\n",
    "    for node in all_nodes:\n",
    "        height = isBst(node, float('-inf'), float('inf'))\n",
    "        # print(node.val, height)\n",
    "        node_dict[height] = node.val\n",
    "        \n",
    "    sorted(node_dict.values())\n",
    "    print(node_dict)\n",
    "    return \"root of largest BST is:- \", node_dict[4]\n",
    "\n",
    "    \n",
    "    "
   ]
  },
  {
   "cell_type": "code",
   "execution_count": 19,
   "metadata": {},
   "outputs": [
    {
     "name": "stdout",
     "output_type": "stream",
     "text": [
      "{2: 90, 3: 70, 4: 50, 5: 25}\n"
     ]
    },
    {
     "data": {
      "text/plain": [
       "('root of largest BST is:- ', 50)"
      ]
     },
     "execution_count": 19,
     "metadata": {},
     "output_type": "execute_result"
    }
   ],
   "source": [
    "isLargestBinaryTree(root)"
   ]
  },
  {
   "cell_type": "code",
   "execution_count": 20,
   "metadata": {},
   "outputs": [
    {
     "data": {
      "text/plain": [
       "[(1, 2), (4, 2), (5, 2), (8, 2), (9, 2), (3, 3), (7, 3), (2, 4), (6, 4)]"
      ]
     },
     "execution_count": 20,
     "metadata": {},
     "output_type": "execute_result"
    }
   ],
   "source": [
    "[(1, 2), (4, 2), (5, 2), (8, 2), (9, 2), (3, 3), (7, 3), (2, 4), (6, 4)]"
   ]
  },
  {
   "cell_type": "code",
   "execution_count": 21,
   "metadata": {},
   "outputs": [],
   "source": [
    "class Solution:\n",
    "    def solve(self, root):\n",
    "        numNodes = {}\n",
    "        # getting the number of Nodes of each subtree\n",
    "        def dfs(root):\n",
    "            if not root:\n",
    "                return 0\n",
    "            l, r = dfs(root.left), dfs(root.right)\n",
    "            numNodes[root] = 1 + l + r\n",
    "            return 1 + l + r\n",
    "\n",
    "        dfs(root)\n",
    "\n",
    "        storeMax, retRoot = 0, None\n",
    "        # validating the BST from bottom to top while tracking the maxNum nodes\n",
    "        def validate(root, parent):\n",
    "            nonlocal storeMax, retRoot\n",
    "            if not root:\n",
    "                return [True, (parent, parent)]\n",
    "            resL, minMaxL = validate(root.left, root)\n",
    "            resR, minMaxR = validate(root.right, root)\n",
    "            # parent BST ? ==> both left and right are BST and they satisfy the range property\n",
    "            resRoot = resL and resR and minMaxL[0].val <= root.val <= minMaxR[1].val\n",
    "            if resRoot:\n",
    "                if numNodes[root] > storeMax:\n",
    "                    retRoot, storeMax = root, numNodes[root]\n",
    "                return [True, (minMaxL[1], minMaxR[0])]\n",
    "            # current subtree not a BST ==> from this side there will be no contribution towards the result\n",
    "            return [False, ((None), (None))]\n",
    "\n",
    "        validate(root, None)\n",
    "        return retRoot"
   ]
  },
  {
   "cell_type": "code",
   "execution_count": 22,
   "metadata": {},
   "outputs": [],
   "source": [
    "# Kth Largest Element"
   ]
  },
  {
   "cell_type": "code",
   "execution_count": 26,
   "metadata": {},
   "outputs": [],
   "source": [
    "# Approach 1, we can use Inorder traversal and get the kth element using index\n",
    "\n",
    "# Approach 2:-  In perfect Binary Tree there will be always odd number of nodes and there'll be (treesize)//2 + 1 no of nodes on each side.\n",
    "\n",
    "# if k is less than median value serach on the left size, if it is greater than median value search on the right size\n",
    "\n",
    "def kth_smallestElement(root, treesize, k):\n",
    "    if root is None:\n",
    "        return False\n",
    "    \n",
    "    median_loc = (treesize//2) + 1\n",
    "    \n",
    "    if k == median_loc:\n",
    "        return root.val\n",
    "    \n",
    "    new_treesize = treesize//2\n",
    "    \n",
    "    if k < median_loc:\n",
    "        return kth_smallestElement(root.left, new_treesize, k)\n",
    "    \n",
    "    new_k = k - medain_loc\n",
    "    \n",
    "    return kth_smallestElement(root.right, new_treesize, new_k)"
   ]
  },
  {
   "cell_type": "code",
   "execution_count": 27,
   "metadata": {},
   "outputs": [],
   "source": [
    "# PostOrder Traversal and PreOrder Traversal"
   ]
  },
  {
   "cell_type": "code",
   "execution_count": 42,
   "metadata": {},
   "outputs": [],
   "source": [
    "def post_order(root, arr):\n",
    "    if root:\n",
    "        post_order(root.left, arr)\n",
    "        post_order(root.right, arr)\n",
    "        arr.append(root.val)\n",
    "        \n",
    "def pre_order(root, arr):\n",
    "    if root:\n",
    "        arr.append(root.val)\n",
    "        pre_order(root.left, arr)\n",
    "        pre_order(root.right, arr)"
   ]
  },
  {
   "cell_type": "code",
   "execution_count": 43,
   "metadata": {},
   "outputs": [
    {
     "name": "stdout",
     "output_type": "stream",
     "text": [
      "[25, 15, 10, 4, 12, 22, 18, 24, 50, 35, 31, 44, 70, 66, 90]\n"
     ]
    }
   ],
   "source": [
    "arr = []\n",
    "pre_order(root, arr)\n",
    "print(arr)"
   ]
  },
  {
   "cell_type": "code",
   "execution_count": 36,
   "metadata": {},
   "outputs": [],
   "source": [
    "# Construct a BST Given Preorder and Inorder Traversal"
   ]
  },
  {
   "cell_type": "code",
   "execution_count": 50,
   "metadata": {},
   "outputs": [],
   "source": [
    "m = {}\n",
    "preIndex = 0\n",
    "\n",
    "def buildTreeHelper(inorder, preorder, m):\n",
    "    lenn = len(inorder)\n",
    "    \n",
    "    for i in range(lenn):\n",
    "        m[inorder[i]] = i\n",
    "        \n",
    "    return buildTree(preorder, 0, lenn)\n",
    "\n",
    "def buildTree(preorder, start, end):\n",
    "    if start > end:\n",
    "        return None\n",
    "    \n",
    "    current = preorder[preIndex]\n",
    "    tNode = Node(current)\n",
    "    preIndex += 1\n",
    "    \n",
    "    if start == end:\n",
    "        return tNode\n",
    "    \n",
    "    tIndex = m[current]\n",
    "    tNode.left = buildTree(preorder, start, tIndex-1)\n",
    "    tNode.right  = buildTree(preorder, tIndex+1, end)\n",
    "    \n",
    "    return tNode"
   ]
  },
  {
   "cell_type": "code",
   "execution_count": 59,
   "metadata": {},
   "outputs": [],
   "source": [
    "# Construct a Binary Tree from PreOrder Traversal"
   ]
  },
  {
   "cell_type": "code",
   "execution_count": null,
   "metadata": {},
   "outputs": [],
   "source": []
  },
  {
   "cell_type": "code",
   "execution_count": 58,
   "metadata": {},
   "outputs": [
    {
     "name": "stdout",
     "output_type": "stream",
     "text": [
      "[4, 10, 15]\n"
     ]
    }
   ],
   "source": [
    "arr = []\n",
    "pre_order(test_node, arr)\n",
    "print(arr)"
   ]
  },
  {
   "cell_type": "code",
   "execution_count": null,
   "metadata": {},
   "outputs": [],
   "source": []
  }
 ],
 "metadata": {
  "kernelspec": {
   "display_name": "Python 3",
   "language": "python",
   "name": "python3"
  },
  "language_info": {
   "codemirror_mode": {
    "name": "ipython",
    "version": 3
   },
   "file_extension": ".py",
   "mimetype": "text/x-python",
   "name": "python",
   "nbconvert_exporter": "python",
   "pygments_lexer": "ipython3",
   "version": "3.8.5"
  }
 },
 "nbformat": 4,
 "nbformat_minor": 4
}
