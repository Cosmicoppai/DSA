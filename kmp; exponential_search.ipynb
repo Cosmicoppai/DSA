{
 "cells": [
  {
   "cell_type": "code",
   "execution_count": 72,
   "metadata": {},
   "outputs": [
    {
     "name": "stdout",
     "output_type": "stream",
     "text": [
      "Pattern found at47\n",
      "Pattern found at252\n",
      "Pattern found at355\n",
      "Pattern found at1423\n",
      "-1\n",
      "0.001683848999618931\n"
     ]
    }
   ],
   "source": [
    "def kmp(text, pattern):\n",
    "    n = len(text)\n",
    "    m = len(pattern)\n",
    "    \n",
    "    if m == 0:\n",
    "        return 0\n",
    "    \n",
    "    fail = p(pattern)\n",
    "    \n",
    "    \n",
    "    j = 0\n",
    "    k = 0\n",
    "    \n",
    "    while j < n:\n",
    "        if text[j] == pattern[k]:\n",
    "            \n",
    "            if k == m-1:\n",
    "                k = 0\n",
    "                print(\"Pattern found at\"+ str(j-m+1))\n",
    "            \n",
    "            j+= 1\n",
    "            k+= 1\n",
    "            \n",
    "        elif k > 0:\n",
    "            k = fail[k-1]\n",
    "            \n",
    "        else:\n",
    "            j+= 1\n",
    "            \n",
    "    return -1\n",
    "\n",
    "\n",
    "def p(pattern):\n",
    "    \n",
    "    m = len(pattern)\n",
    "    \n",
    "    lsp = [0]*m\n",
    "    \n",
    "    j = 1\n",
    "    k = 0\n",
    "    \n",
    "    while j < m:\n",
    "        if pattern[j] == pattern[k]:\n",
    "            print(pattern[j], pattern[k])\n",
    "            lsp[j] = k+1\n",
    "            j+= 1\n",
    "            k+= 1\n",
    "            \n",
    "        elif k > 0:\n",
    "            k = lsp[k-1]\n",
    "            \n",
    "        else:\n",
    "            j+= 1\n",
    "            \n",
    "    return lsp\n",
    "\n",
    "import time\n",
    "\n",
    "\n",
    "t1 = time.perf_counter()\n",
    "text = \"The Naive String Matching algorithm slides the pattern one by one. After each slide, it one by one checks characters at the current shift and if all characters match then prints the match. Like the Naive Algorithm, Rabin-Karp algorithm also slides the pattern one by one. But unlike the Naive algorithm, Rabin Karp algorithm matches the hash value of the pattern with the hash value of current substring of text, and if the hash values match then only it starts matching individual characters. So Rabin Karp algorithm needs to calculate hash values for following strings.1) Pattern itself. 2) All the substrings of the text of length m. Since we need to efficiently calculate hash values for all the substrings of size m of text, we must have a hash function which has the following property. Hash at the next shift must be efficiently computable from the current hash value and next character in text or we can say hash(txt[s+1 .. s+m]) must be efficiently computable from hash(txt[s .. s+m-1]) and txt[s+m] i.e., hash(txt[s+1 .. s+m])= rehash(txt[s+m], hash(txt[s .. s+m-1])) and rehash must be O(1) operation.The hash function suggested by Rabin and Karp calculates an integer value. The integer value for a string is the numeric value of a string. For example, if all possible characters are from 1 to 10, the numeric value of “122” will be 122. The number of possible characters is higher than 10 (256 in general) and pattern length can be large. So the numeric values cannot be practically stored as an integer. Therefore, the numeric value is calculated using modular arithmetic to make sure that the hash values can be stored in an integer variable (can fit in memory words). To do rehashing, we need to take off the most significant digit and add the new least significant digit for in hash value. Rehashing is done using the following formula. \"\n",
    "pattern = \"pattern\"\n",
    "# p(text)\n",
    "print(kmp(text, pattern))\n",
    "print(time.perf_counter() - t1)"
   ]
  },
  {
   "cell_type": "code",
   "execution_count": null,
   "metadata": {},
   "outputs": [],
   "source": []
  },
  {
   "cell_type": "code",
   "execution_count": 95,
   "metadata": {},
   "outputs": [],
   "source": [
    "a = []\n",
    "\n",
    "for i in range(10000000):\n",
    "    a.append(i)"
   ]
  },
  {
   "cell_type": "code",
   "execution_count": null,
   "metadata": {},
   "outputs": [],
   "source": [
    "# Exponential search\n",
    "\n",
    "def exponential_search(a, item):\n",
    "    n = len(a)\n",
    "    \n",
    "    if a[0] == item:\n",
    "        return \"Item found at index 0\"\n",
    "    i = 1\n",
    "    \n",
    "    while i < n and a[i] <= item:\n",
    "        i*= 2\n",
    "        \n",
    "    middle = ((i//2) + n)//2\n",
    "    # print(i, n)\n",
    "    lower = (i//2)\n",
    "    higher = n\n",
    "    \n",
    "    while item != a[middle]:\n",
    "        if item < a[middle]:\n",
    "            higher = middle\n",
    "            middle = (lower+higher)//2\n",
    "\n",
    "        if item > a[lower]:\n",
    "            lower = middle\n",
    "            middle = (lower+higher)//2\n",
    "            \n",
    "    return \"Found at index\" + str(middle)\n",
    "    "
   ]
  },
  {
   "cell_type": "code",
   "execution_count": null,
   "metadata": {},
   "outputs": [],
   "source": [
    "t1 = time.perf_counter()\n",
    "print(exponential_search(a, 859643))\n",
    "print(time.perf_counter()- t1)"
   ]
  },
  {
   "cell_type": "code",
   "execution_count": 98,
   "metadata": {},
   "outputs": [],
   "source": [
    "def bs(b, item):\n",
    "    middle = len(b)//2\n",
    "    lower = 0\n",
    "    higher = len(b)\n",
    "    \n",
    "    while item != b[middle]:\n",
    "        if item < b[middle]:\n",
    "            higher = middle\n",
    "            middle = (lower+higher)//2\n",
    "\n",
    "        if item > b[lower]:\n",
    "            lower = middle\n",
    "            middle = (lower+higher)//2\n",
    "            \n",
    "    return \"Found at index\" + str(middle)"
   ]
  },
  {
   "cell_type": "code",
   "execution_count": null,
   "metadata": {},
   "outputs": [],
   "source": [
    "t1 = time.perf_counter()\n",
    "print(bs(a, 859643))\n",
    "print(time.perf_counter()- t1)"
   ]
  },
  {
   "cell_type": "code",
   "execution_count": 76,
   "metadata": {},
   "outputs": [
    {
     "name": "stdout",
     "output_type": "stream",
     "text": [
      "2\n"
     ]
    }
   ],
   "source": [
    "print(i)"
   ]
  },
  {
   "cell_type": "code",
   "execution_count": 93,
   "metadata": {},
   "outputs": [],
   "source": [
    "a = 1048576//2"
   ]
  },
  {
   "cell_type": "code",
   "execution_count": 94,
   "metadata": {},
   "outputs": [
    {
     "data": {
      "text/plain": [
       "524288"
      ]
     },
     "execution_count": 94,
     "metadata": {},
     "output_type": "execute_result"
    }
   ],
   "source": [
    "a\n"
   ]
  },
  {
   "cell_type": "code",
   "execution_count": null,
   "metadata": {},
   "outputs": [],
   "source": []
  }
 ],
 "metadata": {
  "kernelspec": {
   "display_name": "Python 3",
   "language": "python",
   "name": "python3"
  },
  "language_info": {
   "codemirror_mode": {
    "name": "ipython",
    "version": 3
   },
   "file_extension": ".py",
   "mimetype": "text/x-python",
   "name": "python",
   "nbconvert_exporter": "python",
   "pygments_lexer": "ipython3",
   "version": "3.8.5"
  }
 },
 "nbformat": 4,
 "nbformat_minor": 4
}
