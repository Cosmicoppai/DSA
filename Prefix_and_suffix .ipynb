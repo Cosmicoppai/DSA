{
 "cells": [
  {
   "cell_type": "code",
   "execution_count": 1,
   "metadata": {},
   "outputs": [],
   "source": [
    "# Array"
   ]
  },
  {
   "cell_type": "code",
   "execution_count": 5,
   "metadata": {},
   "outputs": [],
   "source": [
    "# https://www.codingninjas.com/codestudio/guided-paths/data-structures-algorithms/content/118820/offering/1381864?leftPanelTab=0"
   ]
  },
  {
   "cell_type": "code",
   "execution_count": 6,
   "metadata": {},
   "outputs": [],
   "source": [
    "def XoR(queries):\n",
    "    \n",
    "    ans = []\n",
    "    flag = 0\n",
    "    \n",
    "    for i in queries:\n",
    "        if i[0] == 1:\n",
    "            ans.append(i[1]^flag)\n",
    "        else:\n",
    "            flag^= i[1]\n",
    "            \n",
    "    for i in range(len(ans)):\n",
    "        ans[i] = ans[i] ^ flag\n",
    "        \n",
    "    return ans\n",
    "\n",
    "# Time Complexity O(Q)\n",
    "# Space Complexity O(1)"
   ]
  },
  {
   "cell_type": "code",
   "execution_count": 9,
   "metadata": {},
   "outputs": [
    {
     "name": "stdout",
     "output_type": "stream",
     "text": [
      "5\n"
     ]
    }
   ],
   "source": [
    "if __name__ == \"__main__\":"
   ]
  },
  {
   "cell_type": "code",
   "execution_count": 17,
   "metadata": {},
   "outputs": [],
   "source": [
    "# https://www.codingninjas.com/codestudio/guided-paths/data-structures-algorithms/content/118820/offering/1381866?leftPanelTab=1\n",
    "\n",
    "def getProductArrayExceptSelf(arr, n) :\n",
    "    ans = [1 for i in range(n)]\n",
    "    \n",
    "    temp = 1\n",
    "    \n",
    "    for i in range(n):\n",
    "        ans[i] = temp\n",
    "        temp *= arr[i]\n",
    "        \n",
    "    temp = 1\n",
    "    \n",
    "    for i in range(n-1, -1, -1):\n",
    "        ans[i] *= temp\n",
    "        temp *= arr[i]\n",
    "        \n",
    "    return ans"
   ]
  },
  {
   "cell_type": "code",
   "execution_count": 18,
   "metadata": {},
   "outputs": [
    {
     "name": "stdout",
     "output_type": "stream",
     "text": [
      "[6, 0, 0, 0]\n",
      "[4, 10, 10]\n",
      "[120, 60, 40, 30, 24]\n",
      "[2, 0, 0]\n",
      "[5, 5]\n"
     ]
    }
   ],
   "source": [
    "if __name__ == \"__main__\":\n",
    "    print(getProductArrayExceptSelf([0, 1, 2, 3], 4))\n",
    "    print(getProductArrayExceptSelf([5, 2, 2], 3))\n",
    "    print(getProductArrayExceptSelf([1, 2, 3, 4, 5], 5))\n",
    "    print(getProductArrayExceptSelf([0, 1, 2], 3))\n",
    "    print(getProductArrayExceptSelf([5, 5], 2))"
   ]
  },
  {
   "cell_type": "code",
   "execution_count": null,
   "metadata": {},
   "outputs": [],
   "source": []
  }
 ],
 "metadata": {
  "kernelspec": {
   "display_name": "Python 3",
   "language": "python",
   "name": "python3"
  },
  "language_info": {
   "codemirror_mode": {
    "name": "ipython",
    "version": 3
   },
   "file_extension": ".py",
   "mimetype": "text/x-python",
   "name": "python",
   "nbconvert_exporter": "python",
   "pygments_lexer": "ipython3",
   "version": "3.8.5"
  }
 },
 "nbformat": 4,
 "nbformat_minor": 4
}
