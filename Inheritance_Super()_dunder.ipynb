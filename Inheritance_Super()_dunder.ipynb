{
 "cells": [
  {
   "cell_type": "code",
   "execution_count": 1,
   "metadata": {},
   "outputs": [],
   "source": [
    "# Classes in python\n"
   ]
  },
  {
   "cell_type": "code",
   "execution_count": 43,
   "metadata": {},
   "outputs": [],
   "source": [
    "from typing import Optional\n",
    "\n",
    "class School:\n",
    "    def __init__(self, name: str, age: float, fees_paid: bool = False):\n",
    "        self.name = name\n",
    "        self.age = age\n",
    "        self.fees_paid = fees_paid\n",
    "        \n",
    "        \n",
    "    def first_semester(self, name: str, age: float, marks: float, passed: Optional[str] = None) -> str:\n",
    "        if not self.fees_paid:\n",
    "            return f\"{name} hasn't paid the fees yet!...\"\n",
    "        elif marks >= 50:\n",
    "            return f\"{self.name} has passed the first semester with {marks} Marks...\"\n",
    "        return f\"{self.name} has failed the Exam and has scored {marks} Marks\"\n",
    "    \n",
    "    \n",
    "    def final_semester(self, name: str, age: float, marks: float, first_term_passed: Optional[bool] = False) -> str:\n",
    "        if first_term_passed and marks >= 50:\n",
    "            return f\"{self.name} has passed this term with {marks} Marks...\"\n",
    "        return f\"{self.name} has failed this term.....\"\n",
    "        \n",
    "        \n",
    "    def can_take_exam(self, name: str, age: float, marks: float):\n",
    "        if self.first_semester(name, age, marks):\n",
    "            return self.final_semester(name, age, marks, True)\n",
    "        "
   ]
  },
  {
   "cell_type": "code",
   "execution_count": 44,
   "metadata": {},
   "outputs": [],
   "source": [
    "s = School('kanak', 19, False)"
   ]
  },
  {
   "cell_type": "code",
   "execution_count": 45,
   "metadata": {},
   "outputs": [
    {
     "data": {
      "text/plain": [
       "'kanak has passed this term with 80...'"
      ]
     },
     "execution_count": 45,
     "metadata": {},
     "output_type": "execute_result"
    }
   ],
   "source": [
    "s.can_take_exam(s.name, s.age, 80)"
   ]
  },
  {
   "cell_type": "code",
   "execution_count": 29,
   "metadata": {},
   "outputs": [
    {
     "data": {
      "text/plain": [
       "'kanak has passed this term with 50...'"
      ]
     },
     "execution_count": 29,
     "metadata": {},
     "output_type": "execute_result"
    }
   ],
   "source": [
    "s.final_semester(s.name, s.age, 50, True)"
   ]
  },
  {
   "cell_type": "code",
   "execution_count": 77,
   "metadata": {},
   "outputs": [],
   "source": [
    "class Electronics:\n",
    "    \n",
    "    def __init__(self, type_of: str, price: float, model: str):\n",
    "        self.type_of = type_of\n",
    "        self.price = price\n",
    "        self.model = model\n",
    "        \n",
    "    def specs(self):\n",
    "        yield f\"Type of device: - {self.type_of}\"\n",
    "        yield f\"price:- {self.price}\"\n",
    "        yield f\"model:- {self.model}\"\n",
    "        \n",
    "    "
   ]
  },
  {
   "cell_type": "code",
   "execution_count": 95,
   "metadata": {},
   "outputs": [],
   "source": [
    "class Mobile(Electronics):\n",
    "    def __init__(self, price: float, model: str, type_of: str = 'Mobile'):\n",
    "        self.type_of = type_of\n",
    "        self.price = price\n",
    "        self.model = model\n",
    "        \n",
    "        \n",
    "    def specs(self)-> str:\n",
    "        return super().specs()"
   ]
  },
  {
   "cell_type": "code",
   "execution_count": 123,
   "metadata": {},
   "outputs": [],
   "source": [
    "class Computers(Electronics):\n",
    "    def __init__(self, price: float, model: str, type_of: str = 'Computers/ Laptops'):\n",
    "        super().__init__(type_of, price, model)\n",
    "        \n",
    "    def specs(self)-> str:\n",
    "        return super().specs()\n",
    "    "
   ]
  },
  {
   "cell_type": "code",
   "execution_count": 124,
   "metadata": {},
   "outputs": [],
   "source": [
    "e = Electronics('mobile', 500, 'i20')"
   ]
  },
  {
   "cell_type": "code",
   "execution_count": 125,
   "metadata": {},
   "outputs": [
    {
     "name": "stdout",
     "output_type": "stream",
     "text": [
      "Type of device: - mobile\n",
      "price:- 500\n",
      "model:- i20\n"
     ]
    }
   ],
   "source": [
    "for i in e.specs():\n",
    "    prfloat(i)"
   ]
  },
  {
   "cell_type": "code",
   "execution_count": 126,
   "metadata": {},
   "outputs": [
    {
     "name": "stdout",
     "output_type": "stream",
     "text": [
      "Type of device: - Computers/ Laptops\n",
      "price:- 5000\n",
      "model:- Red Dragon 6800 GTx\n"
     ]
    }
   ],
   "source": [
    "m = Computers( 5000, 'Red Dragon 6800 GTx')\n",
    "for i in m.specs():\n",
    "    prfloat(i)"
   ]
  },
  {
   "cell_type": "code",
   "execution_count": null,
   "metadata": {},
   "outputs": [],
   "source": []
  },
  {
   "cell_type": "code",
   "execution_count": 195,
   "metadata": {},
   "outputs": [],
   "source": [
    "class PayrollSystem:\n",
    "    \n",
    "    def calculate_payroll(self, employees):\n",
    "        print(\"Calculating Payroll\")\n",
    "        print(\"=====================\")\n",
    "        for employee in employees:\n",
    "            print(f'Payroll for {employee.id} - {employee.name}')\n",
    "            print(f'Check Amount: {employee.calculate_payroll()}')\n",
    "            print(\" \")\n",
    "            "
   ]
  },
  {
   "cell_type": "code",
   "execution_count": 196,
   "metadata": {},
   "outputs": [],
   "source": [
    "class Employee:\n",
    "    def __init__(self, id: int, name: str):\n",
    "        self.id = id\n",
    "        self.name = name"
   ]
  },
  {
   "cell_type": "code",
   "execution_count": 209,
   "metadata": {},
   "outputs": [],
   "source": [
    "class HourlyWorker(Employee):\n",
    "    def __init__(self, id: int, name: str, hours_worked: float, hourly_rate: float):\n",
    "        super().__init__(id, name)\n",
    "        self.hourly_rate = hourly_rate\n",
    "        self.hours_worked = hours_worked\n",
    "        \n",
    "    def calculate_payroll(self):\n",
    "        return self.hourly_rate*self.hours_worked"
   ]
  },
  {
   "cell_type": "code",
   "execution_count": 210,
   "metadata": {},
   "outputs": [],
   "source": [
    "class OfficeWorker(Employee):\n",
    "    def __init__(self, id: int, name: str, salary: float):\n",
    "        super().__init__(id, name)\n",
    "        self.salary = salary\n",
    "        \n",
    "    def calculate_payroll(self):\n",
    "        return self.salary"
   ]
  },
  {
   "cell_type": "code",
   "execution_count": 211,
   "metadata": {},
   "outputs": [],
   "source": [
    "class CommissionWorker(OfficeWorker):\n",
    "    def __init__(self, id: int, name: str, weekly_salary: float, commission: float):\n",
    "        super().__init__(id, name, weekly_salary)\n",
    "        self.commission = commission\n",
    "\n",
    "    def calculate_payroll(self):\n",
    "        fixed = super().calculate_payroll()\n",
    "        return fixed + self.commission"
   ]
  },
  {
   "cell_type": "code",
   "execution_count": 212,
   "metadata": {},
   "outputs": [
    {
     "name": "stdout",
     "output_type": "stream",
     "text": [
      "Calculating Payroll\n",
      "=====================\n",
      "Payroll for 1 - Kanak\n",
      "Check Amount: 320000\n",
      " \n",
      "Payroll for 2 - Vishu\n",
      "Check Amount: 200000\n",
      " \n",
      "Payroll for 3 - aniket\n",
      "Check Amount: 300000\n",
      " \n"
     ]
    }
   ],
   "source": [
    "hw = HourlyWorker(1, 'Kanak', 320, 1000)\n",
    "ow = OfficeWorker(2, 'Vishu', 200000)\n",
    "cm = CommissionWorker(3, 'aniket', 200000, 100000)\n",
    "\n",
    "employees = [hw, ow, cm]\n",
    "\n",
    "p = PayrollSystem()\n",
    "p.calculate_payroll(employees)"
   ]
  },
  {
   "cell_type": "code",
   "execution_count": 217,
   "metadata": {},
   "outputs": [],
   "source": [
    "from abc import ABC, abstractmethod"
   ]
  },
  {
   "cell_type": "code",
   "execution_count": 219,
   "metadata": {},
   "outputs": [
    {
     "name": "stdout",
     "output_type": "stream",
     "text": [
      "Help on function abstractmethod in module abc:\n",
      "\n",
      "abstractmethod(funcobj)\n",
      "    A decorator indicating abstract methods.\n",
      "    \n",
      "    Requires that the metaclass is ABCMeta or derived from it.  A\n",
      "    class that has a metaclass derived from ABCMeta cannot be\n",
      "    instantiated unless all of its abstract methods are overridden.\n",
      "    The abstract methods can be called using any of the normal\n",
      "    'super' call mechanisms.  abstractmethod() may be used to declare\n",
      "    abstract methods for properties and descriptors.\n",
      "    \n",
      "    Usage:\n",
      "    \n",
      "        class C(metaclass=ABCMeta):\n",
      "            @abstractmethod\n",
      "            def my_abstract_method(self, ...):\n",
      "                ...\n",
      "\n"
     ]
    }
   ],
   "source": [
    "help(abstractmethod)"
   ]
  },
  {
   "cell_type": "code",
   "execution_count": 236,
   "metadata": {},
   "outputs": [],
   "source": [
    "class Employee(ABC):\n",
    "    def __init__(self, id: int, name: str):\n",
    "        self.id =id\n",
    "        self. name = name\n",
    "    \n",
    "    @abstractmethod\n",
    "    def calculate_payroll(self):\n",
    "        return 20000"
   ]
  },
  {
   "cell_type": "code",
   "execution_count": 237,
   "metadata": {},
   "outputs": [],
   "source": [
    "class Worker(Employee):\n",
    "    def __init__(self, id: int, name: str, salary: int):\n",
    "        super().__init__(id, name)\n",
    "        self.salary = salary\n",
    "        \n",
    "    def calculate_payroll(self):\n",
    "        return self.salary"
   ]
  },
  {
   "cell_type": "code",
   "execution_count": 238,
   "metadata": {},
   "outputs": [],
   "source": [
    "w = Worker(5, \"kanak\", 500)"
   ]
  },
  {
   "cell_type": "code",
   "execution_count": 239,
   "metadata": {},
   "outputs": [
    {
     "data": {
      "text/plain": [
       "500"
      ]
     },
     "execution_count": 239,
     "metadata": {},
     "output_type": "execute_result"
    }
   ],
   "source": [
    "w.calculate_payroll()"
   ]
  },
  {
   "cell_type": "code",
   "execution_count": 241,
   "metadata": {},
   "outputs": [],
   "source": [
    "# Duck typing if it's walk like a duck then it's a duck"
   ]
  },
  {
   "cell_type": "code",
   "execution_count": 243,
   "metadata": {},
   "outputs": [],
   "source": [
    "# Super in Python  --> Did something"
   ]
  },
  {
   "cell_type": "code",
   "execution_count": 244,
   "metadata": {},
   "outputs": [],
   "source": [
    "# Dunder"
   ]
  },
  {
   "cell_type": "code",
   "execution_count": 256,
   "metadata": {},
   "outputs": [],
   "source": [
    "from collections import Counter, OrderedDict\n",
    "\n",
    "class OrderedCounter(Counter, OrderedDict):\n",
    "    \n",
    "    'Counter that remembers the order elements are first seen'\n",
    "        \n",
    "    def __repr__(self):\n",
    "        return '%s(%r)' % (self.__class__.__name__,\n",
    "                            OrderedDict(self))\n",
    "    def __reduce__(self):\n",
    "        return self.__class__, (OrderedDict(self),)\n",
    "\n",
    "oc = OrderedCounter('abracadabra')"
   ]
  },
  {
   "cell_type": "code",
   "execution_count": 262,
   "metadata": {},
   "outputs": [
    {
     "data": {
      "text/plain": [
       "<bound method OrderedCounter.__reduce__ of OrderedCounter(OrderedDict([('a', 5), ('b', 2), ('r', 2), ('c', 1), ('d', 1)]))>"
      ]
     },
     "execution_count": 262,
     "metadata": {},
     "output_type": "execute_result"
    }
   ],
   "source": [
    "oc.__reduce__"
   ]
  },
  {
   "cell_type": "code",
   "execution_count": 263,
   "metadata": {},
   "outputs": [
    {
     "data": {
      "text/plain": [
       "<bound method OrderedCounter.__repr__ of OrderedCounter(OrderedDict([('a', 5), ('b', 2), ('r', 2), ('c', 1), ('d', 1)]))>"
      ]
     },
     "execution_count": 263,
     "metadata": {},
     "output_type": "execute_result"
    }
   ],
   "source": [
    "oc.__repr__"
   ]
  },
  {
   "cell_type": "code",
   "execution_count": 406,
   "metadata": {},
   "outputs": [],
   "source": [
    "class Order:\n",
    "    def __init__(self, cart, customer):\n",
    "        self.cart = list(cart)\n",
    "        self.customer = customer\n",
    "        \n",
    "    def __len__(self):  # length function which will be used by the object of this class, similar to Order.__len__()\n",
    "        return len(self.cart)\n",
    "    \n",
    "    def __str__(self):\n",
    "        \n",
    "        # overriding the print function for the object --> Here obj.__str__(), str(obj), print(obj) are all same\n",
    "        \n",
    "        return f\"Order: {self.cart} Customer: {self.customer}\"\n",
    "    \n",
    "    def __repr__(self):\n",
    "        return \"%s(%r)\" %(self.__class__.__name__, {\"Order\": self.cart, \"Customer\": self.customer}) # overriding the __repr__ method\n",
    "    \n",
    "    def __bool__(self):\n",
    "        return self.cart > 0  # It'll return the True if there is an order\n",
    "    \n",
    "    def __exist__(self):\n",
    "        return self.customer != None\n",
    "    \n",
    "    # Overloading Built in operators\n",
    "    \n",
    "    def __add__(self, other):  # order = order + 'Mango' --> in this way we can add an itemin the cart\n",
    "        new_cart = self.cart.copy()\n",
    "        new_cart.append(other)\n",
    "        return Order(new_cart, self.customer)\n",
    "    \n",
    "    def __iadd__(self, other):  # order+= 'Mango' --> in this way we can add an item in the cart\n",
    "        self.cart.append(other)\n",
    "        # print(\"hahahahaha\")\n",
    "        return self\n",
    "    \n",
    "    \n",
    "    \"\"\"Note: When __iadd__() or its friends are missing from your class definition but you still use their operators on your objects,\n",
    "    Python uses __add__() and its friends to get the result of the operation and assigns that to the calling instance.\n",
    "    Generally speaking, it is safe to not implement __iadd__() and its friends in your classes\n",
    "    as long as __add__() and its friends work properly (return something which is the result of the operation).\"\"\"\n",
    "    \n",
    "    \n",
    "    def __getitem__(self, key: int) -> str:  # order[0] will return the first item of an order if it exists\n",
    "        return self.cart[key]"
   ]
  },
  {
   "cell_type": "code",
   "execution_count": 407,
   "metadata": {},
   "outputs": [],
   "source": [
    "order = Order(['mango', 'apple', 'shilajeet'], 'Hrithik')"
   ]
  },
  {
   "cell_type": "code",
   "execution_count": 408,
   "metadata": {},
   "outputs": [
    {
     "name": "stdout",
     "output_type": "stream",
     "text": [
      "Order: ['mango', 'apple', 'shilajeet'] Customer: Hrithik\n"
     ]
    }
   ],
   "source": [
    "len(order)\n",
    "print(order)"
   ]
  },
  {
   "cell_type": "code",
   "execution_count": 409,
   "metadata": {},
   "outputs": [
    {
     "data": {
      "text/plain": [
       "Order({'Order': ['mango', 'apple', 'shilajeet'], 'Customer': 'Hrithik'})"
      ]
     },
     "execution_count": 409,
     "metadata": {},
     "output_type": "execute_result"
    }
   ],
   "source": [
    "order"
   ]
  },
  {
   "cell_type": "code",
   "execution_count": 410,
   "metadata": {},
   "outputs": [
    {
     "data": {
      "text/plain": [
       "'Note: In cases where the __str__() method is not defined, Python uses the __repr__() method to print the object,\\nas well as to represent the object when str() is called on it. If both the methods are missing,\\nit defaults to <__main__.Vector ...>. But __repr__() is the only method that is used to display the object in an interactive session.\\nAbsence of it in the class yields <__main__.Vector ...>.\\n\\nAlso, while this distinction between __str__() and __repr__() is the recommended behavior,\\nmany of the popular libraries ignore this distinction and use the two methods interchangeably.'"
      ]
     },
     "execution_count": 410,
     "metadata": {},
     "output_type": "execute_result"
    }
   ],
   "source": [
    "\"\"\"Note: In cases where the __str__() method is not defined, Python uses the __repr__() method to print the object,\n",
    "as well as to represent the object when str() is called on it. If both the methods are missing,\n",
    "it defaults to <__main__.Vector ...>. But __repr__() is the only method that is used to display the object in an interactive session.\n",
    "Absence of it in the class yields <__main__.Vector ...>.\n",
    "\n",
    "Also, while this distinction between __str__() and __repr__() is the recommended behavior,\n",
    "many of the popular libraries ignore this distinction and use the two methods interchangeably.\"\"\""
   ]
  },
  {
   "cell_type": "code",
   "execution_count": 411,
   "metadata": {},
   "outputs": [],
   "source": [
    "# Overloading Built in operators"
   ]
  },
  {
   "cell_type": "code",
   "execution_count": 412,
   "metadata": {},
   "outputs": [],
   "source": [
    "# (order + 'Green Tea').cart # new instance"
   ]
  },
  {
   "cell_type": "code",
   "execution_count": 413,
   "metadata": {},
   "outputs": [
    {
     "data": {
      "text/plain": [
       "['mango', 'apple', 'shilajeet']"
      ]
     },
     "execution_count": 413,
     "metadata": {},
     "output_type": "execute_result"
    }
   ],
   "source": [
    "order.cart  # Original instance unchanged"
   ]
  },
  {
   "cell_type": "code",
   "execution_count": 414,
   "metadata": {},
   "outputs": [],
   "source": [
    "order += 'Green Tea'"
   ]
  },
  {
   "cell_type": "code",
   "execution_count": 415,
   "metadata": {},
   "outputs": [
    {
     "data": {
      "text/plain": [
       "['mango', 'apple', 'shilajeet', 'Green Tea']"
      ]
     },
     "execution_count": 415,
     "metadata": {},
     "output_type": "execute_result"
    }
   ],
   "source": [
    "order.cart  # original instance unchanged"
   ]
  },
  {
   "cell_type": "code",
   "execution_count": 416,
   "metadata": {},
   "outputs": [
    {
     "data": {
      "text/plain": [
       "'Similarly we have __sub()__ and __mul()__'"
      ]
     },
     "execution_count": 416,
     "metadata": {},
     "output_type": "execute_result"
    }
   ],
   "source": [
    "\"\"\"Similarly we have __sub()__ and __mul()__\"\"\""
   ]
  },
  {
   "cell_type": "code",
   "execution_count": 418,
   "metadata": {},
   "outputs": [
    {
     "data": {
      "text/plain": [
       "'apple'"
      ]
     },
     "execution_count": 418,
     "metadata": {},
     "output_type": "execute_result"
    }
   ],
   "source": [
    "order[1]  # get item operator"
   ]
  },
  {
   "cell_type": "code",
   "execution_count": null,
   "metadata": {},
   "outputs": [],
   "source": []
  },
  {
   "cell_type": "code",
   "execution_count": null,
   "metadata": {},
   "outputs": [],
   "source": []
  }
 ],
 "metadata": {
  "kernelspec": {
   "display_name": "Python 3",
   "language": "python",
   "name": "python3"
  },
  "language_info": {
   "codemirror_mode": {
    "name": "ipython",
    "version": 3
   },
   "file_extension": ".py",
   "mimetype": "text/x-python",
   "name": "python",
   "nbconvert_exporter": "python",
   "pygments_lexer": "ipython3",
   "version": "3.8.5"
  }
 },
 "nbformat": 4,
 "nbformat_minor": 4
}
