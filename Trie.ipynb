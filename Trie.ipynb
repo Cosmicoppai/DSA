{
 "cells": [
  {
   "cell_type": "code",
   "execution_count": 1,
   "metadata": {},
   "outputs": [],
   "source": [
    "# Trie Data Structure"
   ]
  },
  {
   "cell_type": "code",
   "execution_count": 162,
   "metadata": {},
   "outputs": [],
   "source": [
    "class TrieNode:\n",
    "    def __init__(self, char=''):\n",
    "        self.children = [None]*256\n",
    "        self.is_end_of_word = False\n",
    "        self.char = char\n",
    "        \n",
    "class Trie:\n",
    "    def __init__(self):\n",
    "        self.root = None\n",
    "    \n",
    "    def _chartoindex(self, character):\n",
    "        return ord(character) - ord(' ')\n",
    "    \n",
    "    def insert(self, character):\n",
    "        pCrawl = self.root\n",
    "        \n",
    "        for chr_ in character:\n",
    "            index = self._chartoindex(chr_)\n",
    "            \n",
    "            if not pCrawl.children[index]:\n",
    "                pCrawl.children[index] = TrieNode(chr_)\n",
    "            pCrawl = pCrawl.children[index]\n",
    "            \n",
    "        pCrawl.is_end_of_word = True\n",
    "        \n",
    "        \n",
    "    def search(self, character):\n",
    "        pCrawl = self.root\n",
    "        for chr_ in character:\n",
    "            index = self._chartoindex(chr_)\n",
    "            if not pCrawl.children[index]:\n",
    "                return False\n",
    "            pCrawl = pCrawl.children[index]\n",
    "            \n",
    "        return pCrawl != None and pCrawl.is_end_of_word\n",
    "    \n",
    "    \n",
    "    def dfs(self, current, path, words):\n",
    "        path.append(current.char)\n",
    "        if current.is_end_of_word is True:\n",
    "            words.append(\"\".join(path))\n",
    "            \n",
    "        for child in current.children:\n",
    "            if child:\n",
    "                self.dfs(child, path, words)\n",
    "                \n",
    "        path.pop()\n",
    "        \n",
    "        "
   ]
  },
  {
   "cell_type": "code",
   "execution_count": 174,
   "metadata": {},
   "outputs": [
    {
     "name": "stdout",
     "output_type": "stream",
     "text": [
      "Available strings:--  ['Kana is a good girl', 'Kanak is a good boy']\n"
     ]
    }
   ],
   "source": [
    "def main():\n",
    "\n",
    "    t = Trie()\n",
    "    t.root = TrieNode()\n",
    "    t.insert(\"Kanak is a good boy\")\n",
    "    t.insert(\"Kana is a good girl\")\n",
    "    t.search(\"Kana is a good girl\")\n",
    "    word = []\n",
    "    t.dfs(t.root, [], word)\n",
    "    print(\"Available strings:-- \",word)\n",
    "    \n",
    "if __name__ == \"__main__\":\n",
    "    main()"
   ]
  },
  {
   "cell_type": "code",
   "execution_count": 182,
   "metadata": {},
   "outputs": [],
   "source": [
    "class Node:\n",
    "    def __init__(self, char=''):\n",
    "        self.char = char\n",
    "        self.children = [None] * 26\n",
    "        self.is_end_of_word = False\n",
    "\n",
    "\n",
    "class Trie:\n",
    "    def __init__(self):\n",
    "        self.root = None\n",
    "\n",
    "    def insert(self, word):\n",
    "        current = self.root\n",
    "        for char in word:\n",
    "            index = ord(char) - ord('a')\n",
    "            if not current.children[index]:\n",
    "                current.children[index] = Node(char)\n",
    "            current = current.children[index]\n",
    "        current.is_end_of_word = True\n",
    "\n",
    "    def dfs(self, current, path, words):\n",
    "        path.append(current.char)\n",
    "        if current.is_end_of_word:\n",
    "            words.append(''.join(path))\n",
    "        for child in current.children:\n",
    "            if child:\n",
    "                self.dfs(child, path, words)\n",
    "        path.pop()\n",
    "\n",
    "\n",
    "def main():\n",
    "    trie = Trie()\n",
    "    trie.root = Node()\n",
    "    words = ['the', 'a', 'there', 'answer', 'any', 'by', 'bye', 'their', 'abc', 'nikhil']\n",
    "    for word in words:\n",
    "        trie.insert(word)\n",
    "    words = []\n",
    "    trie.dfs(trie.root, [], words)\n",
    "    # print(words)\n",
    "\n",
    "\n",
    "if __name__ == '__main__':\n",
    "    main()\n"
   ]
  },
  {
   "cell_type": "code",
   "execution_count": 128,
   "metadata": {},
   "outputs": [
    {
     "name": "stdout",
     "output_type": "stream",
     "text": [
      "['', '']\n"
     ]
    }
   ],
   "source": [
    "print(word)"
   ]
  },
  {
   "cell_type": "code",
   "execution_count": 130,
   "metadata": {},
   "outputs": [
    {
     "data": {
      "text/plain": [
       "''"
      ]
     },
     "execution_count": 130,
     "metadata": {},
     "output_type": "execute_result"
    }
   ],
   "source": [
    "t.root.char"
   ]
  },
  {
   "cell_type": "code",
   "execution_count": 185,
   "metadata": {},
   "outputs": [],
   "source": [
    "import random"
   ]
  },
  {
   "cell_type": "code",
   "execution_count": null,
   "metadata": {},
   "outputs": [],
   "source": []
  },
  {
   "cell_type": "code",
   "execution_count": null,
   "metadata": {},
   "outputs": [],
   "source": [
    "def delete(self):\n",
    "    "
   ]
  }
 ],
 "metadata": {
  "kernelspec": {
   "display_name": "Python 3",
   "language": "python",
   "name": "python3"
  },
  "language_info": {
   "codemirror_mode": {
    "name": "ipython",
    "version": 3
   },
   "file_extension": ".py",
   "mimetype": "text/x-python",
   "name": "python",
   "nbconvert_exporter": "python",
   "pygments_lexer": "ipython3",
   "version": "3.8.5"
  }
 },
 "nbformat": 4,
 "nbformat_minor": 4
}
