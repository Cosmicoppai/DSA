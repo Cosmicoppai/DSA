{
 "cells": [
  {
   "cell_type": "code",
   "execution_count": 1,
   "metadata": {},
   "outputs": [],
   "source": [
    "# Dynamic Programming"
   ]
  },
  {
   "cell_type": "code",
   "execution_count": null,
   "metadata": {},
   "outputs": [],
   "source": [
    "def fibonacci(n, lookup):\n",
    "    \n",
    "    if n == 0 or n == 1:\n",
    "            lookup[n] = n\n",
    "            \n",
    "    if lookup[n] is None:\n",
    "        lookup[n] = fibonacci(n-1, lookup) + fibonacci(n-2, lookup)\n",
    "        \n",
    "    return lookup[n]\n",
    "\n",
    "def main():\n",
    "    n = int(input(\"Enter the Number:- \"))\n",
    "    lookup = [None]*(n+1)\n",
    "    print(str(n)+\"th Fibonacci Number is \", fibonacci(n, lookup))\n",
    "    \n",
    "if __name__ == \"__main__\":\n",
    "    main()"
   ]
  },
  {
   "cell_type": "code",
   "execution_count": null,
   "metadata": {},
   "outputs": [],
   "source": [
    "def fibonacci(n):\n",
    "    \n",
    "    f = [0]*(n+1)\n",
    "    \n",
    "    f[1] = 1\n",
    "    \n",
    "    for i in range(2, n+1):\n",
    "        f[i] = f[i-1] + f[i-2]\n",
    "        \n",
    "    return f[n]\n",
    "\n",
    "def main():\n",
    "    n = int(input(\"Enter the Number:- \"))\n",
    "    print(str(n)+\"th Fibonacci Number is \", fibonacci(n))\n",
    "    \n",
    "if __name__ == \"__main__\":\n",
    "    main()"
   ]
  },
  {
   "cell_type": "code",
   "execution_count": null,
   "metadata": {},
   "outputs": [],
   "source": []
  },
  {
   "cell_type": "code",
   "execution_count": 5,
   "metadata": {},
   "outputs": [
    {
     "name": "stdout",
     "output_type": "stream",
     "text": [
      "41798\n"
     ]
    }
   ],
   "source": [
    ]
  },
  {
   "cell_type": "code",
   "execution_count": 1,
   "metadata": {},
   "outputs": [],
   "source": [
    "# はいどうもこんばんは"
   ]
  },
  {
   "cell_type": "code",
   "execution_count": null,
   "metadata": {},
   "outputs": [],
   "source": [
    "def Binary_coeff(n, k):\n",
    "    \n",
    "    if k > n -k:\n",
    "        k = n - k\n",
    "        \n",
    "    res = 1  # Because NCo is 1\n",
    "    for i in range(k):\n",
    "        res = res * (n-i)\n",
    "        res = res//(i+1)\n",
    "    return res\n",
    "\n",
    "print(Binary_coeff(1000000000000000000000000000000000000000000000000000000000000000000000000000000000000000000000000, 1000000000))"
   ]
  },
  {
   "cell_type": "code",
   "execution_count": 3,
   "metadata": {},
   "outputs": [
    {
     "name": "stdout",
     "output_type": "stream",
     "text": [
      "1420898158957961962014390819610862755970848386695218627770386030250\n"
     ]
    }
   ],
   "source": [
    "def Binomial_coeff(n, k):\n",
    "    \n",
    "    c = [0 for i in range(k+1)]\n",
    "    \n",
    "    c[0] = 1\n",
    "    \n",
    "    for i in range(1, n+1):\n",
    "        \n",
    "        j = min(i, k)\n",
    "        while j > 0:\n",
    "            c[j] = c[j] + c[j-1]\n",
    "            j -= 1\n",
    "            \n",
    "    return c[k]\n",
    "    \n",
    "print(Binomial_coeff(1000, 36))"
   ]
  },
  {
   "cell_type": "code",
   "execution_count": 2,
   "metadata": {},
   "outputs": [
    {
     "name": "stdout",
     "output_type": "stream",
     "text": [
      "-1420898158957961962014390819610862755970848386695218627770386030250\n"
     ]
    }
   ],
   "source": [
    "def Binomial_coeff(n, k, dp):\n",
    "    \n",
    "    if dp[n][k] != -1:\n",
    "        return dp[n][k]\n",
    "        \n",
    "    if k == 0 or k == n:\n",
    "        dp[n][k] == 1\n",
    "        return dp[n][k]\n",
    "    \n",
    "    dp[n][k] = Binomial_coeff(n-1, k-1, dp) + Binomial_coeff(n-1, k, dp)\n",
    "    \n",
    "    return dp[n][k]\n",
    "\n",
    "def run(n, k):\n",
    "    dp = [[-1 for i in range(k+1)] for i in range(n+1)]\n",
    "    return Binomial_coeff(n, k, dp)\n",
    "    \n",
    "print(run(1000, 36))"
   ]
  },
  {
   "cell_type": "code",
   "execution_count": 4,
   "metadata": {},
   "outputs": [],
   "source": [
    "def max_sub_array(a, size):\n",
    "    \n",
    "    max_so_far = a[0]\n",
    "    curr_max = a[0]\n",
    "    \n",
    "    for i in range(1, size):\n",
    "        curr_max = max(a[i], curr_max+a[i])\n",
    "        max_so_far = max(max_so_far, curr_max)\n",
    "        \n",
    "    return max_so_far"
   ]
  },
  {
   "cell_type": "code",
   "execution_count": 11,
   "metadata": {},
   "outputs": [
    {
     "name": "stdout",
     "output_type": "stream",
     "text": [
      "7\n"
     ]
    }
   ],
   "source": [
    "a = [-2, -3, 4, -1, -2, 1, 5, -3]\n",
    "print(max_sub_array(a, 7))"
   ]
  },
  {
   "cell_type": "code",
   "execution_count": 9,
   "metadata": {},
   "outputs": [],
   "source": [
    "def kadanes(a, size):\n",
    "    \n",
    "    max_so_far = 0\n",
    "    curr_max = 0\n",
    "    \n",
    "    for i in range(0, size):\n",
    "        curr_max = curr_max + a[i]\n",
    "        \n",
    "        if curr_max < 0:\n",
    "            curr_max = 0\n",
    "            \n",
    "        elif max_so_far < curr_max:\n",
    "            max_so_far = curr_max\n",
    "            \n",
    "    return max_so_far"
   ]
  },
  {
   "cell_type": "code",
   "execution_count": 12,
   "metadata": {},
   "outputs": [
    {
     "name": "stdout",
     "output_type": "stream",
     "text": [
      "7\n"
     ]
    }
   ],
   "source": [
    "print(kadanes(a, 7))"
   ]
  },
  {
   "cell_type": "code",
   "execution_count": 13,
   "metadata": {},
   "outputs": [],
   "source": [
    "# Minimum Cost Path"
   ]
  },
  {
   "cell_type": "code",
   "execution_count": null,
   "metadata": {},
   "outputs": [],
   "source": []
  },
  {
   "cell_type": "code",
   "execution_count": null,
   "metadata": {},
   "outputs": [],
   "source": []
  },
  {
   "cell_type": "code",
   "execution_count": null,
   "metadata": {},
   "outputs": [],
   "source": []
  },
  {
   "cell_type": "code",
   "execution_count": null,
   "metadata": {},
   "outputs": [],
   "source": []
  }
 ],
 "metadata": {
  "kernelspec": {
   "display_name": "Python 3",
   "language": "python",
   "name": "python3"
  },
  "language_info": {
   "codemirror_mode": {
    "name": "ipython",
    "version": 3
   },
   "file_extension": ".py",
   "mimetype": "text/x-python",
   "name": "python",
   "nbconvert_exporter": "python",
   "pygments_lexer": "ipython3",
   "version": "3.7.3"
  }
 },
 "nbformat": 4,
 "nbformat_minor": 2
}
