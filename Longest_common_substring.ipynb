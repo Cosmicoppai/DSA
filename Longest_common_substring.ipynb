{
 "cells": [
  {
   "cell_type": "code",
   "execution_count": 1,
   "metadata": {},
   "outputs": [],
   "source": [
    "# Dynamic Programming\n",
    "\n",
    "# Minimum cost"
   ]
  },
  {
   "cell_type": "code",
   "execution_count": 2,
   "metadata": {},
   "outputs": [
    {
     "name": "stdout",
     "output_type": "stream",
     "text": [
      "8\n"
     ]
    }
   ],
   "source": [
    "def min_cost(row, col, cost):\n",
    "    \n",
    "    for i in range(1, row):\n",
    "        cost[i][0] += cost[i-1][0]\n",
    "        \n",
    "    for j in range(1, col):\n",
    "        cost[0][j] += cost[0][j-1]\n",
    "        \n",
    "    for i in range(1, row):\n",
    "        for j in range(1, col):\n",
    "            cost[i][j] += (min(cost[i-1][j-1], \n",
    "                              cost[i-1][j], cost[i][j-1]))\n",
    "            \n",
    "    return cost[row-1][col-1]\n",
    "\n",
    "\n",
    "if __name__ == \"__main__\":\n",
    "    \n",
    "    row = 3\n",
    "    col = 3\n",
    "    \n",
    "    cost = [[1, 2, 3],\n",
    "           [4, 8, 2],\n",
    "           [1, 5, 3]]\n",
    "    \n",
    "    print(min_cost(row, col, cost))"
   ]
  },
  {
   "cell_type": "code",
   "execution_count": 70,
   "metadata": {},
   "outputs": [],
   "source": [
    "# Longest common substring"
   ]
  },
  {
   "cell_type": "code",
   "execution_count": 76,
   "metadata": {},
   "outputs": [],
   "source": [
    "class Solution:\n",
    "    def solve(self, a, b):\n",
    "        n1, n2 = len(a), len(b)\n",
    "        dp = [[0 for _ in range(n2+1)] for _ in range(n1+1)]\n",
    "        max_len = 0\n",
    "        \n",
    "        for i in range(1, n1+1):\n",
    "            for j in range(1, n2+1):\n",
    "                if a[i-1] == b[j-1]:\n",
    "                    dp[i][j] = 1 + dp[i-1][j-1]\n",
    "                else:\n",
    "                    dp[i][j] = max(dp[i-1][j], dp[i][j-1])\n",
    "                max_len = max(max_len, dp[i][j])\n",
    "                \n",
    "        return max_len"
   ]
  },
  {
   "cell_type": "code",
   "execution_count": 82,
   "metadata": {},
   "outputs": [],
   "source": [
    "a = \"ourkuxbpok\"\n",
    "b = \"ufquoxhppc\""
   ]
  },
  {
   "cell_type": "code",
   "execution_count": 83,
   "metadata": {},
   "outputs": [
    {
     "data": {
      "text/plain": [
       "4"
      ]
     },
     "execution_count": 83,
     "metadata": {},
     "output_type": "execute_result"
    }
   ],
   "source": [
    "Solution().solve(a, b)"
   ]
  },
  {
   "cell_type": "code",
   "execution_count": null,
   "metadata": {},
   "outputs": [],
   "source": []
  }
 ],
 "metadata": {
  "kernelspec": {
   "display_name": "Python 3",
   "language": "python",
   "name": "python3"
  },
  "language_info": {
   "codemirror_mode": {
    "name": "ipython",
    "version": 3
   },
   "file_extension": ".py",
   "mimetype": "text/x-python",
   "name": "python",
   "nbconvert_exporter": "python",
   "pygments_lexer": "ipython3",
   "version": "3.7.3"
  }
 },
 "nbformat": 4,
 "nbformat_minor": 2
}
