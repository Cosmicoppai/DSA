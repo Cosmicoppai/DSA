{
 "cells": [
  {
   "cell_type": "code",
   "execution_count": 1,
   "metadata": {},
   "outputs": [],
   "source": [
    "# Dijkstra's Algorithm"
   ]
  },
  {
   "cell_type": "code",
   "execution_count": 126,
   "metadata": {},
   "outputs": [],
   "source": [
    "from collections import defaultdict\n",
    "import heapq\n",
    "\n",
    "class Graph:\n",
    "    \n",
    "    def __init__(self, V: int):  # V -> no. of vertices\n",
    "        self.graph = defaultdict(list)\n",
    "        self.V = V\n",
    "        \n",
    "    def add_edge(self, u, v, w: int):  # u, v, and w are edge1, edge2, and weight respectively\n",
    "        self.graph[u].append((w, v))\n",
    "        \n",
    "    def breadth_first_traversal(self, src: int) -> list:\n",
    "        queue = []\n",
    "        visited = [False]*self.V\n",
    "        traversal = []\n",
    "        \n",
    "        def breadth_first_helper(src: int) -> list:\n",
    "            queue.append(src)\n",
    "            visited[src] = True\n",
    "            \n",
    "            while len(queue):\n",
    "                next_node = queue.pop(0)\n",
    "                traversal.append(next_node)\n",
    "                \n",
    "                for node in self.graph[next_node]:\n",
    "                    if not visited[node[1]]:\n",
    "                        visited[node[1]] = True\n",
    "                        queue.append(node[1])\n",
    "                        \n",
    "        breadth_first_helper(src)\n",
    "        return traversal\n",
    "    \n",
    "    \n",
    "    def depth_first_traversal(self, src: int) -> list:\n",
    "        visited = [False]*self.V\n",
    "        traversal = []\n",
    "        \n",
    "        def depth_first_helper(src:int) -> list:\n",
    "            visited[src] = True\n",
    "            traversal.append(src)\n",
    "            \n",
    "            for next_node in self.graph[src]:\n",
    "                if not visited[next_node[1]]:\n",
    "                    depth_first_helper(next_node[1])\n",
    "                    \n",
    "        depth_first_helper(src)\n",
    "        return traversal\n",
    "    \n",
    "    \n",
    "    def dijkstra(self, src: int) -> list:\n",
    "        visited = set()\n",
    "        path = {src: 0}\n",
    "        dist = {src: 0}\n",
    "        \n",
    "        while True:\n",
    "            if len(visited) == len(self.graph) - 1:\n",
    "                break\n",
    "                \n",
    "            mini = float('inf')\n",
    "        \n",
    "            for i in dist:\n",
    "                if i not in visited and dist[i] < mini:\n",
    "                    mini = dist[i]\n",
    "                    u = i\n",
    "\n",
    "            visited.add(u)\n",
    "\n",
    "            for v in self.graph[u]:\n",
    "                if v[1] not in visited:\n",
    "                    if dist[u] + v[0] < dist.get(v[1], float('inf')):\n",
    "                        dist[v[1]] = dist[u] + v[0]\n",
    "                        path[v[1]] = u\n",
    "\n",
    "        for i in dist:\n",
    "            if i!= src:\n",
    "                print(i, \":-\", dist[i])\n",
    "        print(path)\n",
    "        \n",
    "    def dijkstra_node_to_node(self, src, dest) -> int:\n",
    "    \n",
    "        visited = set()\n",
    "        heap = [(src, 0)]\n",
    "\n",
    "        while heap:\n",
    "\n",
    "            u, cost_u = heapq.heappop(heap)\n",
    "            \n",
    "            if u in visited:\n",
    "                continue\n",
    "\n",
    "            visited.add(u)\n",
    "\n",
    "            if u == dest:\n",
    "                return cost_u\n",
    "\n",
    "            print(u)\n",
    "            for v in self.graph[u]:\n",
    "                if v[1] not in visited:\n",
    "                    cost = v[0] + cost_u\n",
    "                    heapq.heappush(heap, (v[1], cost) )\n",
    "\n",
    "        return -1\n",
    "        "
   ]
  },
  {
   "cell_type": "code",
   "execution_count": 127,
   "metadata": {},
   "outputs": [
    {
     "name": "stdout",
     "output_type": "stream",
     "text": [
      "0\n",
      "1\n",
      "2\n",
      "3\n",
      "4\n",
      "5\n",
      "6\n",
      "7\n"
     ]
    },
    {
     "data": {
      "text/plain": [
       "14"
      ]
     },
     "execution_count": 127,
     "metadata": {},
     "output_type": "execute_result"
    }
   ],
   "source": [
    "graph = Graph(9)\n",
    "graph.add_edge(0, 1, 4)\n",
    "graph.add_edge(0, 7, 8)\n",
    "graph.add_edge(1, 2, 8)\n",
    "graph.add_edge(1, 7, 11)\n",
    "graph.add_edge(2, 3, 7)\n",
    "graph.add_edge(2, 8, 2)\n",
    "graph.add_edge(2, 5, 4)\n",
    "graph.add_edge(3, 4, 9)\n",
    "graph.add_edge(3, 5, 14)\n",
    "graph.add_edge(4, 5, 10)\n",
    "graph.add_edge(5, 6, 2)\n",
    "graph.add_edge(6, 7, 1)\n",
    "graph.add_edge(6, 8, 6)\n",
    "graph.add_edge(7, 8, 7)\n",
    "# graph.dijkstra(0)\n",
    "graph.dijkstra_node_to_node(0, 8)"
   ]
  },
  {
   "cell_type": "code",
   "execution_count": 67,
   "metadata": {},
   "outputs": [],
   "source": [
    "1 :- 4\n",
    "7 :- 8\n",
    "2 :- 12\n",
    "8 :- 14\n",
    "3 :- 19\n",
    "5 :- 16\n",
    "6 :- 18\n",
    "4 :- 28\n",
    "{0: 0, 1: 0, 7: 0, 2: 1, 8: 2, 3: 2, 5: 2, 6: 5, 4: 3}\n",
    "\n",
    "\n",
    "\n",
    "\n",
    "def dijkstra(self, src: int) -> dict:\n",
    "    visited = set()\n",
    "    path = {src: 0}\n",
    "    dist = {src: 0}\n",
    "    \n",
    "    while True:\n",
    "        \n",
    "        if len(visited) == self.graph - 1:\n",
    "            break\n",
    "        \n",
    "        mini = float('inf')\n",
    "        \n",
    "        for i in dist:\n",
    "            if i not in visited and dist[i] < mini:\n",
    "                mini = dist[i]\n",
    "                u = i\n",
    "                \n",
    "        visited.add(u)\n",
    "        \n",
    "        for v in self.graph[u]:\n",
    "            if v[1] not in visited:\n",
    "                if dist[u] + v[0] < dist.get(v[1], float('inf')):\n",
    "                    dist[v[1]] = dist[u] + v[0]\n",
    "                    path[v[1]] = u\n",
    "                    \n",
    "    for i in dist:\n",
    "        if i != src:\n",
    "            print(dist[i])\n",
    "    print(path)"
   ]
  },
  {
   "cell_type": "code",
   "execution_count": 38,
   "metadata": {},
   "outputs": [],
   "source": [
    "def dijkstra_from_node_to_node(self, src, dest) -> int:\n",
    "    \n",
    "    visited = set()\n",
    "    heap = heapq.heapify([0, src])\n",
    "    \n",
    "    while heap:\n",
    "        \n",
    "        u, cost_u = heapq.heappop(heap)\n",
    "        if u in visited:\n",
    "            continue\n",
    "            \n",
    "        visited.add(u)\n",
    "        \n",
    "        if u == dest:\n",
    "            return cost_u\n",
    "        \n",
    "        for v in self.graph[u]:\n",
    "            if v[1] not in visited:\n",
    "                next_ = v[0] + cost_u\n",
    "                heapq.heappush(heap, (next_, v[1]))\n",
    "                \n",
    "    return -1\n"
   ]
  },
  {
   "cell_type": "code",
   "execution_count": 61,
   "metadata": {},
   "outputs": [],
   "source": [
    "dist = [{0:0, 1:4, -1:-1}]"
   ]
  },
  {
   "cell_type": "code",
   "execution_count": 91,
   "metadata": {},
   "outputs": [],
   "source": [
    "b = [(1, 4), (7, 2), (3, 4), (0, 0)]"
   ]
  },
  {
   "cell_type": "code",
   "execution_count": 92,
   "metadata": {},
   "outputs": [],
   "source": [
    "heapq.heapify(b)"
   ]
  },
  {
   "cell_type": "code",
   "execution_count": 93,
   "metadata": {},
   "outputs": [
    {
     "name": "stdout",
     "output_type": "stream",
     "text": [
      "[(0, 0), (1, 4), (3, 4), (7, 2)]\n"
     ]
    }
   ],
   "source": [
    "print(b)"
   ]
  },
  {
   "cell_type": "code",
   "execution_count": 94,
   "metadata": {},
   "outputs": [
    {
     "data": {
      "text/plain": [
       "(0, 0)"
      ]
     },
     "execution_count": 94,
     "metadata": {},
     "output_type": "execute_result"
    }
   ],
   "source": [
    "def dijkstras(self, src: int) -> dict:\n",
    "    path = {src: 0}\n",
    "    dist = {src: 0}\n",
    "    visited = set()\n",
    "    \n",
    "    while True:\n",
    "        \n",
    "        if len(visited) == len(self.graph) - 1:\n",
    "            break\n",
    "            \n",
    "        mini = float('inf')\n",
    "        \n",
    "        for i in dist:\n",
    "            if i not in visited and dist[i] < mini:\n",
    "                mini = dist[i]\n",
    "                u = i\n",
    "                \n",
    "        visited.add(u)\n",
    "        \n",
    "        for v in self.graph[u]:\n",
    "            if v[1] not in visited:\n",
    "                if v[0] + dist[u] < dist.get(v[1], float('inf')):\n",
    "                    dist[v[1]] = v[0] + dist[u]\n",
    "                    path[v[1]] = u\n",
    "                    \n",
    "                    \n",
    "    return path, dist"
   ]
  },
  {
   "cell_type": "code",
   "execution_count": 89,
   "metadata": {},
   "outputs": [
    {
     "data": {
      "text/plain": [
       "0"
      ]
     },
     "execution_count": 89,
     "metadata": {},
     "output_type": "execute_result"
    }
   ],
   "source": [
    "u"
   ]
  },
  {
   "cell_type": "code",
   "execution_count": 90,
   "metadata": {},
   "outputs": [
    {
     "data": {
      "text/plain": [
       "0"
      ]
     },
     "execution_count": 90,
     "metadata": {},
     "output_type": "execute_result"
    }
   ],
   "source": [
    "u_dist"
   ]
  },
  {
   "cell_type": "code",
   "execution_count": 123,
   "metadata": {},
   "outputs": [
    {
     "data": {
      "text/plain": [
       "[(4, 1), (8, 7)]"
      ]
     },
     "execution_count": 123,
     "metadata": {},
     "output_type": "execute_result"
    }
   ],
   "source": [
    "graph.graph[0]"
   ]
  },
  {
   "cell_type": "code",
   "execution_count": null,
   "metadata": {},
   "outputs": [],
   "source": []
  }
 ],
 "metadata": {
  "kernelspec": {
   "display_name": "Python 3",
   "language": "python",
   "name": "python3"
  },
  "language_info": {
   "codemirror_mode": {
    "name": "ipython",
    "version": 3
   },
   "file_extension": ".py",
   "mimetype": "text/x-python",
   "name": "python",
   "nbconvert_exporter": "python",
   "pygments_lexer": "ipython3",
   "version": "3.8.5"
  }
 },
 "nbformat": 4,
 "nbformat_minor": 4
}
