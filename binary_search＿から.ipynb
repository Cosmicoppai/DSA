{
 "cells": [
  {
   "cell_type": "code",
   "execution_count": 40,
   "metadata": {},
   "outputs": [],
   "source": [
    "# ASCII String to Integer"
   ]
  },
  {
   "cell_type": "code",
   "execution_count": 43,
   "metadata": {},
   "outputs": [],
   "source": [
    "def sol(s):\n",
    "    digits = {'1':1, '2':2, '3':3, '4':4,\n",
    "        '5':5, '6':6, '7':7, '8':8, '9':9}\n",
    "    curr = 0\n",
    "    res = 0\n",
    "    for i in s:\n",
    "        if i in digits:\n",
    "            curr = curr*10 + digits[i]\n",
    "            # print(curr)\n",
    "        else:\n",
    "            res+= curr\n",
    "            curr = 0\n",
    "            \n",
    "    return res + curr"
   ]
  },
  {
   "cell_type": "code",
   "execution_count": 44,
   "metadata": {},
   "outputs": [
    {
     "data": {
      "text/plain": [
       "48"
      ]
     },
     "execution_count": 44,
     "metadata": {},
     "output_type": "execute_result"
    }
   ],
   "source": [
    "s = \"11aa32bbb5\"\n",
    "sol(s)"
   ]
  }
 ],
 "metadata": {
  "kernelspec": {
   "display_name": "Python 3",
   "language": "python",
   "name": "python3"
  },
  "language_info": {
   "codemirror_mode": {
    "name": "ipython",
    "version": 3
   },
   "file_extension": ".py",
   "mimetype": "text/x-python",
   "name": "python",
   "nbconvert_exporter": "python",
   "pygments_lexer": "ipython3",
   "version": "3.7.3"
  }
 },
 "nbformat": 4,
 "nbformat_minor": 2
}
