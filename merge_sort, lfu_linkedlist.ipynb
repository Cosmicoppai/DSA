{
 "cells": [
  {
   "cell_type": "code",
   "execution_count": 1,
   "metadata": {},
   "outputs": [],
   "source": [
    "# XOR Linked List\n",
    "# Merge Sort on Linked List\n",
    "# LFC using Linked List"
   ]
  },
  {
   "cell_type": "code",
   "execution_count": 2,
   "metadata": {},
   "outputs": [],
   "source": [
    "# XOR A MEMORY EFFICIENT LINKED LIST"
   ]
  },
  {
   "cell_type": "code",
   "execution_count": 36,
   "metadata": {},
   "outputs": [],
   "source": [
    "class Node:\n",
    "    def __init__(self, data):\n",
    "        self.data = data\n",
    "        self.next = None\n",
    "        self.prev = None\n",
    "        \n",
    "        \n",
    "class Linked_List:\n",
    "    \n",
    "    def __init__(self):\n",
    "        self.head = None\n",
    "        self.tail = None\n",
    "        \n",
    "    \n",
    "    # To add data\n",
    "    \n",
    "    def add_data(self, data):\n",
    "        node = Node(data)\n",
    "        node.prev = self.tail\n",
    "        if self.head is None:\n",
    "            self.head = node\n",
    "        else:\n",
    "            self.tail.next = node\n",
    "            \n",
    "        self.tail = node\n",
    "     \n",
    "    # To traverse the list\n",
    "    \n",
    "    def print_list(self):\n",
    "        temp = self.head\n",
    "        temp1 = self.tail\n",
    "        \n",
    "        while temp:\n",
    "            print(temp.data)\n",
    "            temp = temp.next\n",
    "        \n",
    "        while temp1:  # To print the data in reverse order\n",
    "            print(temp1.data)\n",
    "            temp1 = temp1.prev"
   ]
  },
  {
   "cell_type": "code",
   "execution_count": 37,
   "metadata": {},
   "outputs": [],
   "source": [
    "ll = Linked_List()"
   ]
  },
  {
   "cell_type": "code",
   "execution_count": 38,
   "metadata": {},
   "outputs": [],
   "source": [
    "ll.add_data(1)\n",
    "ll.add_data(2)\n",
    "ll.add_data(3)\n",
    "ll.add_data(4)\n",
    "ll.add_data(5)"
   ]
  },
  {
   "cell_type": "code",
   "execution_count": 39,
   "metadata": {},
   "outputs": [
    {
     "name": "stdout",
     "output_type": "stream",
     "text": [
      "1\n",
      "2\n",
      "3\n",
      "4\n",
      "5\n",
      "5\n",
      "4\n",
      "3\n",
      "2\n",
      "1\n"
     ]
    }
   ],
   "source": [
    "ll.print_list()"
   ]
  },
  {
   "cell_type": "code",
   "execution_count": 40,
   "metadata": {},
   "outputs": [],
   "source": [
    "# Doubly Linked List\n",
    "\n",
    "class Node:\n",
    "    def __init__(self, data):\n",
    "        self.data = data\n",
    "        self.next = None\n",
    "        self.prev = None\n",
    "        \n",
    "        \n",
    "class Linked_List:\n",
    "    \n",
    "    def __init__(self):\n",
    "        self.head = None\n",
    "        self.tail = None\n",
    "        \n",
    "    \n",
    "    # To add data\n",
    "    \n",
    "    def add_data(self, data):\n",
    "        node = Node(data)\n",
    "        node.prev = self.tail\n",
    "        if self.head is None:\n",
    "            self.head = node\n",
    "        else:\n",
    "            self.tail.next = node\n",
    "            \n",
    "        self.tail = node\n",
    "     \n",
    "    # To traverse the list\n",
    "    \n",
    "    def print_list(self):\n",
    "        temp = self.head\n",
    "        temp1 = self.tail\n",
    "        \n",
    "        while temp:\n",
    "            print(temp.data)\n",
    "            temp = temp.next\n",
    "        \n",
    "        while temp1:  # To print the data in reverse order\n",
    "            print(temp1.data)\n",
    "            temp1 = temp1.prev"
   ]
  },
  {
   "cell_type": "code",
   "execution_count": 71,
   "metadata": {},
   "outputs": [],
   "source": [
    "# Least Frequency Cache \n",
    "\n",
    "import collections\n",
    "class LFUCache:\n",
    "    \n",
    "    def __init__(self, capacity: int):\n",
    "        self.counter = collections.Counter()\n",
    "        self.cap = capacity\n",
    "        self.timestamp = 0\n",
    "        \n",
    "    def get(self, key: int) -> int:\n",
    "        if key not in self.counter:\n",
    "            return -1\n",
    "        \n",
    "        self.timestamp -= 1\n",
    "        self.counter[key] = [self.counter[key][0]-1, self.timestamp, self.counter[key][2]]\n",
    "        return self.counter[key][2]\n",
    "    \n",
    "    def set(self, key: int, value: int) -> None:\n",
    "        \n",
    "        if self.cap:\n",
    "            self.timestamp -= 1\n",
    "            \n",
    "            if key in self.counter:\n",
    "                self.counter[key] = [self.counter[key][0]-1, self.timestamp, self.counter[key][2]]\n",
    "            \n",
    "            if len(self.counter) == self.cap:\n",
    "                k, _ = self.counter.most_common(1)[0]\n",
    "                del self.counter[k]\n",
    "                \n",
    "            self.counter[key] = [0, self.timestamp, value]"
   ]
  },
  {
   "cell_type": "code",
   "execution_count": 72,
   "metadata": {},
   "outputs": [],
   "source": [
    "# [[3], [1, 10], [1], [2, 20], [3, 30], [4, 40], [3], [2]]`"
   ]
  },
  {
   "cell_type": "code",
   "execution_count": 73,
   "metadata": {},
   "outputs": [],
   "source": [
    "ll = LFUCache(3)"
   ]
  },
  {
   "cell_type": "code",
   "execution_count": 74,
   "metadata": {},
   "outputs": [
    {
     "data": {
      "text/plain": [
       "-1"
      ]
     },
     "execution_count": 74,
     "metadata": {},
     "output_type": "execute_result"
    }
   ],
   "source": [
    "ll.set(1, 10)\n",
    "ll.get(1)\n",
    "ll.set(2, 20)\n",
    "ll.set(3, 30)\n",
    "ll.set(4, 40)\n",
    "ll.get(3)\n",
    "ll.get(2)"
   ]
  },
  {
   "cell_type": "code",
   "execution_count": 75,
   "metadata": {},
   "outputs": [
    {
     "name": "stdout",
     "output_type": "stream",
     "text": [
      "Counter({4: [0, -5, 40], 1: [-1, -2, 10], 3: [-1, -6, 30]})\n"
     ]
    }
   ],
   "source": [
    "print(ll.counter)"
   ]
  },
  {
   "cell_type": "code",
   "execution_count": 76,
   "metadata": {},
   "outputs": [],
   "source": [
    "# Merge Sort in Linked List"
   ]
  },
  {
   "cell_type": "code",
   "execution_count": 65,
   "metadata": {},
   "outputs": [],
   "source": [
    "class Node:\n",
    "    def __init__(self, data):\n",
    "        self.data = data\n",
    "        self.next = None\n",
    "        \n",
    "class LinkedList:\n",
    "    def __init__(self):\n",
    "        self.head = None\n",
    "        self.tail = None\n",
    "        \n",
    "    def add_data(self, data):\n",
    "        node = Node(data)\n",
    "        if self.head is None:\n",
    "            self.head = node\n",
    "        else:\n",
    "            self.tail.next = node\n",
    "            \n",
    "        self.tail = node\n",
    "        \n",
    "    def print_list(self, node):\n",
    "        # temp = self.head\n",
    "        if node is None:\n",
    "            return\n",
    "        temp = node\n",
    "        while temp:\n",
    "            print(temp.data)\n",
    "            temp = temp.next\n",
    "            \n",
    "    def sorted_merge(self, a , b ) -> list:\n",
    "        result = None\n",
    "        \n",
    "        if a is None:\n",
    "            return b\n",
    "        if b is None:\n",
    "            return a\n",
    "        \n",
    "        if a.data <= b.data:\n",
    "            result = a\n",
    "            result.next = self.sorted_merge(a.next, b)\n",
    "                \n",
    "        else:\n",
    "            result = b\n",
    "            result.next = self.sorted_merge(a, b.next)\n",
    "            \n",
    "        return result\n",
    "            \n",
    "            \n",
    "    def merge_sort(self, temp):\n",
    "    \n",
    "        if temp is None or temp.next is None:\n",
    "            return temp\n",
    "        \n",
    "        middle = self.get_middle(temp)\n",
    "        next_to_middle = middle.next\n",
    "        middle.next = None\n",
    "        \n",
    "        left = self.merge_sort(temp)\n",
    "        \n",
    "        right = self.merge_sort(next_to_middle)\n",
    "        \n",
    "        sortedlist = self.sorted_merge(left, right)\n",
    "        \n",
    "        return sortedlist\n",
    "        \n",
    "        \n",
    "    def get_middle(self, head):\n",
    "        slow = head\n",
    "        fast = head\n",
    "        \n",
    "        while fast.next and fast.next.next:\n",
    "            slow = slow.next\n",
    "            fast = fast.next.next\n",
    "            \n",
    "        return slow\n",
    "        \n",
    "        "
   ]
  },
  {
   "cell_type": "code",
   "execution_count": 66,
   "metadata": {},
   "outputs": [],
   "source": [
    "ll = LinkedList()"
   ]
  },
  {
   "cell_type": "code",
   "execution_count": 67,
   "metadata": {},
   "outputs": [
    {
     "name": "stdout",
     "output_type": "stream",
     "text": [
      "1\n",
      "2\n",
      "3\n",
      "4\n",
      "5\n"
     ]
    }
   ],
   "source": [
    "ll.add_data(5)\n",
    "ll.add_data(4)\n",
    "ll.add_data(3)\n",
    "ll.add_data(2)\n",
    "ll.add_data(1)\n",
    "# ll.print_list(ll.head)\n",
    "ans = ll.merge_sort(ll.head)\n",
    "ll.print_list(ans)\n",
    "# 0x000000EB8395B9B0>"
   ]
  },
  {
   "cell_type": "code",
   "execution_count": null,
   "metadata": {},
   "outputs": [],
   "source": []
  }
 ],
 "metadata": {
  "kernelspec": {
   "display_name": "Python 3",
   "language": "python",
   "name": "python3"
  },
  "language_info": {
   "codemirror_mode": {
    "name": "ipython",
    "version": 3
   },
   "file_extension": ".py",
   "mimetype": "text/x-python",
   "name": "python",
   "nbconvert_exporter": "python",
   "pygments_lexer": "ipython3",
   "version": "3.7.3"
  }
 },
 "nbformat": 4,
 "nbformat_minor": 2
}
