{
 "cells": [
  {
   "cell_type": "code",
   "execution_count": 1,
   "metadata": {},
   "outputs": [],
   "source": [
    "# Linked List"
   ]
  },
  {
   "cell_type": "code",
   "execution_count": 122,
   "metadata": {},
   "outputs": [],
   "source": [
    "class Node:\n",
    "    def __init__(self, data):\n",
    "        self.data = data\n",
    "        self.next = None\n",
    "        \n",
    "class Linked_list:\n",
    "    def __init__(self):\n",
    "        self.head = None\n",
    "        self.tail = None\n",
    "        \n",
    "    def add(self, data):\n",
    "        node = Node(data)\n",
    "        if self.head is None:\n",
    "            self.head = node\n",
    "        else:\n",
    "            self.tail.next = node\n",
    "        \n",
    "        self.tail = node\n",
    "        \n",
    "    def print_list(self, head):\n",
    "        temp = head\n",
    "        \n",
    "        while temp:\n",
    "            print(temp.data, end=\" \")\n",
    "            temp = temp.next\n",
    "        return\n",
    "    \n",
    "    def reverse(self):\n",
    "        curr = self.head\n",
    "        prev = None\n",
    "        nex = None\n",
    "        \n",
    "        while curr:\n",
    "            nex = curr.next\n",
    "            curr.next = prev\n",
    "            prev = curr\n",
    "            curr = nex\n",
    "            \n",
    "        return self.print_list(prev)\n",
    "    \n",
    "    def detect_cycle_helper(self):\n",
    "        tort = self.head\n",
    "        hare = self.head\n",
    "        \n",
    "        while tort and hare and hare.next:\n",
    "            hare = hare.next.next\n",
    "            tort = tort.next\n",
    "            if hare == tort:\n",
    "                return 1\n",
    "            \n",
    "    def detect_cycle(self):\n",
    "        if self.detect_cycle:\n",
    "            return \"Loop Exist\"\n",
    "        else:\n",
    "            return \"Loop Doesn't exist\"\n",
    "            \n",
    "            \n",
    "            \n",
    "        "
   ]
  },
  {
   "cell_type": "code",
   "execution_count": 123,
   "metadata": {},
   "outputs": [],
   "source": [
    "ll = Linked_list()"
   ]
  },
  {
   "cell_type": "code",
   "execution_count": 124,
   "metadata": {},
   "outputs": [],
   "source": [
    "for i in range(1, 6):\n",
    "    ll.add(i)"
   ]
  },
  {
   "cell_type": "code",
   "execution_count": 125,
   "metadata": {},
   "outputs": [
    {
     "name": "stdout",
     "output_type": "stream",
     "text": [
      "1 2 3 4 5 5 4 3 2 1 "
     ]
    }
   ],
   "source": [
    "ll.print_list(ll.head)\n",
    "ll.reverse()"
   ]
  },
  {
   "cell_type": "code",
   "execution_count": null,
   "metadata": {},
   "outputs": [],
   "source": []
  }
 ],
 "metadata": {
  "kernelspec": {
   "display_name": "Python 3",
   "language": "python",
   "name": "python3"
  },
  "language_info": {
   "codemirror_mode": {
    "name": "ipython",
    "version": 3
   },
   "file_extension": ".py",
   "mimetype": "text/x-python",
   "name": "python",
   "nbconvert_exporter": "python",
   "pygments_lexer": "ipython3",
   "version": "3.7.3"
  }
 },
 "nbformat": 4,
 "nbformat_minor": 2
}
