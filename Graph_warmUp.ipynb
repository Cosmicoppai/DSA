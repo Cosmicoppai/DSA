{
 "cells": [
  {
   "cell_type": "code",
   "execution_count": 1,
   "metadata": {},
   "outputs": [],
   "source": [
    "# BFS. DFS. TOPOLOGOCAL SORT, SHORTEST-PATH, DIJKSTRA'S"
   ]
  },
  {
   "cell_type": "code",
   "execution_count": 2,
   "metadata": {},
   "outputs": [],
   "source": [
    "from collections import defaultdict"
   ]
  },
  {
   "cell_type": "code",
   "execution_count": 3,
   "metadata": {},
   "outputs": [],
   "source": [
    "class Graph:\n",
    "    \n",
    "    def __init__(self, V: int):  # v -> no of vertices\n",
    "        self.graph = defaultdict(list)\n",
    "        self.V = V\n",
    "        \n",
    "    def add_edge(self, u, v, w: int) -> dict:\n",
    "        self.graph[u].append((w, v))\n",
    "        \n",
    "    def breadth_first_traversal(self, src: int):\n",
    "        queue = []\n",
    "        visited = [False]*self.V\n",
    "        graph = self.graph\n",
    "        \n",
    "        def breadth_first_helper(src:int) -> 'breadth_first_traversal_of_graph':\n",
    "            queue.append(src)\n",
    "            visited[src] = True\n",
    "            \n",
    "            while len(queue):\n",
    "                next_vertex = queue.pop(0)\n",
    "                print(next_vertex)\n",
    "                for neighbours in graph[next_vertex]:\n",
    "                    if not visited[neighbours[1]]:\n",
    "                        visited[neighbours[1]] = True\n",
    "                        queue.append(neighbours[1])\n",
    "                        \n",
    "        breadth_first_helper(src)\n",
    "        \n",
    "    def depth_first_traversal(self, src:int) -> 'depth first traversal of graph':\n",
    "        visited = [False]*self.V\n",
    "        graph = self.graph\n",
    "        traversal = []\n",
    "        \n",
    "        def depth_first_helper(src: int):\n",
    "            traversal.append(src)\n",
    "            visited[src] = True\n",
    "            for neighbours in graph[src]:\n",
    "                if not visited[neighbours[1]]:\n",
    "                    depth_first_helper(neighbours[1])\n",
    "                    \n",
    "        depth_first_helper(src)\n",
    "        return traversal\n",
    "        \n",
    "        \n",
    "    def shortest_path(self, src: int, dest: int) -> \"find shortest from to src to destination vertex\":\n",
    "        distance = [float('inf')]*self.V\n",
    "        distance[src] = 0\n",
    "        graph = self.graph\n",
    "        visited = [False]*self.V\n",
    "        \n",
    "        def shortest_path_helper(src: int, dest: int):\n",
    "            visited[src] = True\n",
    "            if src == dest:\n",
    "                print(distance[dest])\n",
    "        \n",
    "            for next in graph[src]:\n",
    "                if not visited[next[1]]:\n",
    "                    # print(next)\n",
    "                    distance[next[1]] = next[0] + distance[src]\n",
    "                    # print(distance[next[1]], next[1])\n",
    "                    shortest_path_helper(next[1], dest)\n",
    "                else:\n",
    "                    if distance[src]+ next[0] < distance[next[1]]:\n",
    "                        distance[next[1]] = distance[src]+ next[0]\n",
    "                       #  print(distance[next[1]], next[1])\n",
    "                        shortest_path_helper(next[1], dest)\n",
    "                        \n",
    "                        \n",
    "        shortest_path_helper(src, dest)\n",
    "        \n",
    "        \n",
    "    def topological_sort(self, src:int) -> \"topological sorting od directed acyclic graph\":\n",
    "        N = self.V\n",
    "        visited = [False]*N\n",
    "        ordering = [0]*N\n",
    "        i = N-1\n",
    "        graph = self.graph\n",
    "        \n",
    "        def dfs(at, v: list, visitedNodes: list):\n",
    "            v[at] = True\n",
    "            edges = graph[at]\n",
    "            for edge in edges:\n",
    "                if not v[edge[1]]:\n",
    "                    dfs(at, v, visitedNodes)\n",
    "                    \n",
    "            visitedNodes.append(at)\n",
    "                    \n",
    "                    \n",
    "        for at in range(0, N):\n",
    "            if not visited[at]:\n",
    "                visitedNodes = []\n",
    "                dfs(at, visited, visitedNodes)\n",
    "                for node in visitedNodes:\n",
    "                    ordering[i] = node\n",
    "                    i-= 1\n",
    "            \n",
    "        return ordering\n",
    "        \n",
    "        \n",
    "        \n",
    "    def dijkstras_shortest_path(self):\n",
    "        pass\n",
    "                \n",
    "            \n",
    "        "
   ]
  },
  {
   "cell_type": "code",
   "execution_count": 4,
   "metadata": {},
   "outputs": [],
   "source": [
    "g = Graph(6)\n",
    "g.add_edge(5, 2, 1)\n",
    "g.add_edge(5, 0, 1)\n",
    "g.add_edge(4, 0, 1)\n",
    "g.add_edge(4, 1, 1)\n",
    "g.add_edge(2, 3, 1)\n",
    "g.add_edge(3, 1, 1)\n",
    "'''print(\"breadth-first:- \")\n",
    "g.breadth_first_traversal(0)\n",
    "print(\"depth-first:- \")\n",
    "g.depth_first_traversal(0)\n",
    "print(\"shoretst distance from 0 to 2\")'''\n",
    "g.shortest_path(0, 2)\n",
    "# g.topological_sort(5)"
   ]
  },
  {
   "cell_type": "code",
   "execution_count": 7,
   "metadata": {},
   "outputs": [
    {
     "name": "stdout",
     "output_type": "stream",
     "text": [
      "defaultdict(<class 'list'>, {0: [(1, 5), (4, 4)], 4: [(3, 3), (1, 5)], 1: [(2, 6), (3, 2)], 3: [(2, 7)]})\n"
     ]
    }
   ],
   "source": [
    "graph = defaultdict(list)\n",
    "def add(u, v, w):\n",
    "    graph[u].append((v, w))\n",
    "    \n",
    "    \n",
    "add(0, 1, 5)\n",
    "add(0, 4, 4)\n",
    "add(4, 3, 3)\n",
    "add(4, 1, 5)\n",
    "add(1, 2, 6)\n",
    "add(1, 3, 2)\n",
    "add(3, 2, 7)\n",
    "    \n",
    "print(graph)"
   ]
  },
  {
   "cell_type": "code",
   "execution_count": 23,
   "metadata": {},
   "outputs": [],
   "source": [
    "a = [True]\n",
    "if not a[0]:\n",
    "    print(50)"
   ]
  },
  {
   "cell_type": "code",
   "execution_count": 88,
   "metadata": {},
   "outputs": [],
   "source": [
    "a = [5, 4, 3, 2, 1]"
   ]
  },
  {
   "cell_type": "code",
   "execution_count": 95,
   "metadata": {},
   "outputs": [
    {
     "data": {
      "text/plain": [
       "[1, 2, 3, 4, 5]"
      ]
     },
     "execution_count": 95,
     "metadata": {},
     "output_type": "execute_result"
    }
   ],
   "source": [
    "a[::-1]"
   ]
  },
  {
   "cell_type": "code",
   "execution_count": null,
   "metadata": {},
   "outputs": [],
   "source": []
  }
 ],
 "metadata": {
  "kernelspec": {
   "display_name": "Python 3",
   "language": "python",
   "name": "python3"
  },
  "language_info": {
   "codemirror_mode": {
    "name": "ipython",
    "version": 3
   },
   "file_extension": ".py",
   "mimetype": "text/x-python",
   "name": "python",
   "nbconvert_exporter": "python",
   "pygments_lexer": "ipython3",
   "version": "3.8.5"
  }
 },
 "nbformat": 4,
 "nbformat_minor": 4
}
